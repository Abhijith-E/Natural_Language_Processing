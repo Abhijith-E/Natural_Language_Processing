{
 "cells": [
  {
   "cell_type": "code",
   "execution_count": 3,
   "metadata": {},
   "outputs": [
    {
     "name": "stdout",
     "output_type": "stream",
     "text": [
      "Collecting nltk\n",
      "  Downloading nltk-3.9.1-py3-none-any.whl.metadata (2.9 kB)\n",
      "Collecting click (from nltk)\n",
      "  Downloading click-8.1.8-py3-none-any.whl.metadata (2.3 kB)\n",
      "Requirement already satisfied: joblib in c:\\users\\hp\\appdata\\local\\programs\\python\\python313\\lib\\site-packages (from nltk) (1.4.2)\n",
      "Collecting regex>=2021.8.3 (from nltk)\n",
      "  Using cached regex-2024.11.6-cp313-cp313-win_amd64.whl.metadata (41 kB)\n",
      "Collecting tqdm (from nltk)\n",
      "  Using cached tqdm-4.67.1-py3-none-any.whl.metadata (57 kB)\n",
      "Requirement already satisfied: colorama in c:\\users\\hp\\appdata\\roaming\\python\\python313\\site-packages (from click->nltk) (0.4.6)\n",
      "Downloading nltk-3.9.1-py3-none-any.whl (1.5 MB)\n",
      "   ---------------------------------------- 0.0/1.5 MB ? eta -:--:--\n",
      "   ---------------------------------------- 0.0/1.5 MB ? eta -:--:--\n",
      "   ------------- -------------------------- 0.5/1.5 MB 1.8 MB/s eta 0:00:01\n",
      "   -------------------- ------------------- 0.8/1.5 MB 2.0 MB/s eta 0:00:01\n",
      "   --------------------------- ------------ 1.0/1.5 MB 1.9 MB/s eta 0:00:01\n",
      "   ---------------------------------- ----- 1.3/1.5 MB 1.5 MB/s eta 0:00:01\n",
      "   ---------------------------------------- 1.5/1.5 MB 1.4 MB/s eta 0:00:00\n",
      "Using cached regex-2024.11.6-cp313-cp313-win_amd64.whl (273 kB)\n",
      "Downloading click-8.1.8-py3-none-any.whl (98 kB)\n",
      "Using cached tqdm-4.67.1-py3-none-any.whl (78 kB)\n",
      "Installing collected packages: tqdm, regex, click, nltk\n",
      "Successfully installed click-8.1.8 nltk-3.9.1 regex-2024.11.6 tqdm-4.67.1\n",
      "Note: you may need to restart the kernel to use updated packages.\n"
     ]
    },
    {
     "name": "stderr",
     "output_type": "stream",
     "text": [
      "\n",
      "[notice] A new release of pip is available: 24.3.1 -> 25.0\n",
      "[notice] To update, run: python.exe -m pip install --upgrade pip\n"
     ]
    }
   ],
   "source": [
    "pip install nltk"
   ]
  },
  {
   "cell_type": "code",
   "execution_count": 4,
   "metadata": {},
   "outputs": [
    {
     "name": "stdout",
     "output_type": "stream",
     "text": [
      "Collecting textblobNote: you may need to restart the kernel to use updated packages.\n"
     ]
    },
    {
     "name": "stderr",
     "output_type": "stream",
     "text": [
      "\n",
      "[notice] A new release of pip is available: 24.3.1 -> 25.0\n",
      "[notice] To update, run: python.exe -m pip install --upgrade pip\n"
     ]
    },
    {
     "name": "stdout",
     "output_type": "stream",
     "text": [
      "\n",
      "  Downloading textblob-0.19.0-py3-none-any.whl.metadata (4.4 kB)\n",
      "Requirement already satisfied: nltk>=3.9 in c:\\users\\hp\\appdata\\local\\programs\\python\\python313\\lib\\site-packages (from textblob) (3.9.1)\n",
      "Requirement already satisfied: click in c:\\users\\hp\\appdata\\local\\programs\\python\\python313\\lib\\site-packages (from nltk>=3.9->textblob) (8.1.8)\n",
      "Requirement already satisfied: joblib in c:\\users\\hp\\appdata\\local\\programs\\python\\python313\\lib\\site-packages (from nltk>=3.9->textblob) (1.4.2)\n",
      "Requirement already satisfied: regex>=2021.8.3 in c:\\users\\hp\\appdata\\local\\programs\\python\\python313\\lib\\site-packages (from nltk>=3.9->textblob) (2024.11.6)\n",
      "Requirement already satisfied: tqdm in c:\\users\\hp\\appdata\\local\\programs\\python\\python313\\lib\\site-packages (from nltk>=3.9->textblob) (4.67.1)\n",
      "Requirement already satisfied: colorama in c:\\users\\hp\\appdata\\roaming\\python\\python313\\site-packages (from click->nltk>=3.9->textblob) (0.4.6)\n",
      "Downloading textblob-0.19.0-py3-none-any.whl (624 kB)\n",
      "   ---------------------------------------- 0.0/624.3 kB ? eta -:--:--\n",
      "   --------------------------------- ------ 524.3/624.3 kB 3.6 MB/s eta 0:00:01\n",
      "   ---------------------------------------- 624.3/624.3 kB 2.6 MB/s eta 0:00:00\n",
      "Installing collected packages: textblob\n",
      "Successfully installed textblob-0.19.0\n"
     ]
    }
   ],
   "source": [
    "pip install textblob"
   ]
  },
  {
   "cell_type": "code",
   "execution_count": 5,
   "metadata": {},
   "outputs": [
    {
     "name": "stdout",
     "output_type": "stream",
     "text": [
      "Collecting spacy\n",
      "  Downloading spacy-3.8.2.tar.gz (1.3 MB)\n",
      "     ---------------------------------------- 0.0/1.3 MB ? eta -:--:--\n",
      "     ---------------------------------------- 0.0/1.3 MB ? eta -:--:--\n",
      "     ---------------- ----------------------- 0.5/1.3 MB 1.6 MB/s eta 0:00:01\n",
      "     -------------------------------- ------- 1.0/1.3 MB 2.0 MB/s eta 0:00:01\n",
      "     ---------------------------------------- 1.3/1.3 MB 2.1 MB/s eta 0:00:00\n",
      "  Installing build dependencies: started\n",
      "  Installing build dependencies: still running...\n",
      "  Installing build dependencies: finished with status 'error'\n",
      "Note: you may need to restart the kernel to use updated packages.\n"
     ]
    },
    {
     "name": "stderr",
     "output_type": "stream",
     "text": [
      "  error: subprocess-exited-with-error\n",
      "  \n",
      "  × pip subprocess to install build dependencies did not run successfully.\n",
      "  │ exit code: 1\n",
      "  ╰─> [155 lines of output]\n",
      "      Ignoring numpy: markers 'python_version < \"3.9\"' don't match your environment\n",
      "      Collecting setuptools\n",
      "        Using cached setuptools-75.8.0-py3-none-any.whl.metadata (6.7 kB)\n",
      "      Collecting cython<3.0,>=0.25\n",
      "        Downloading Cython-0.29.37-py2.py3-none-any.whl.metadata (3.1 kB)\n",
      "      Collecting cymem<2.1.0,>=2.0.2\n",
      "        Downloading cymem-2.0.11-cp313-cp313-win_amd64.whl.metadata (8.8 kB)\n",
      "      Collecting preshed<3.1.0,>=3.0.2\n",
      "        Downloading preshed-3.0.9.tar.gz (14 kB)\n",
      "        Installing build dependencies: started\n",
      "        Installing build dependencies: finished with status 'done'\n",
      "        Getting requirements to build wheel: started\n",
      "        Getting requirements to build wheel: finished with status 'done'\n",
      "        Preparing metadata (pyproject.toml): started\n",
      "        Preparing metadata (pyproject.toml): finished with status 'done'\n",
      "      Collecting murmurhash<1.1.0,>=0.28.0\n",
      "        Using cached murmurhash-1.0.12-cp313-cp313-win_amd64.whl.metadata (2.2 kB)\n",
      "      Collecting thinc<8.4.0,>=8.3.0\n",
      "        Downloading thinc-8.3.2.tar.gz (193 kB)\n",
      "        Installing build dependencies: started\n",
      "        Installing build dependencies: still running...\n",
      "        Installing build dependencies: finished with status 'error'\n",
      "        error: subprocess-exited-with-error\n",
      "      \n",
      "        Ã— pip subprocess to install build dependencies did not run successfully.\n",
      "        â”‚ exit code: 1\n",
      "        â•°â”€> [118 lines of output]\n",
      "            Ignoring numpy: markers 'python_version < \"3.9\"' don't match your environment\n",
      "            Collecting setuptools\n",
      "              Using cached setuptools-75.8.0-py3-none-any.whl.metadata (6.7 kB)\n",
      "            Collecting cython<3.0,>=0.25\n",
      "              Using cached Cython-0.29.37-py2.py3-none-any.whl.metadata (3.1 kB)\n",
      "            Collecting murmurhash<1.1.0,>=1.0.2\n",
      "              Using cached murmurhash-1.0.12-cp313-cp313-win_amd64.whl.metadata (2.2 kB)\n",
      "            Collecting cymem<2.1.0,>=2.0.2\n",
      "              Using cached cymem-2.0.11-cp313-cp313-win_amd64.whl.metadata (8.8 kB)\n",
      "            Collecting preshed<3.1.0,>=3.0.2\n",
      "              Using cached preshed-3.0.9.tar.gz (14 kB)\n",
      "              Installing build dependencies: started\n",
      "              Installing build dependencies: finished with status 'done'\n",
      "              Getting requirements to build wheel: started\n",
      "              Getting requirements to build wheel: finished with status 'done'\n",
      "              Preparing metadata (pyproject.toml): started\n",
      "              Preparing metadata (pyproject.toml): finished with status 'done'\n",
      "            Collecting blis<1.1.0,>=1.0.0\n",
      "              Downloading blis-1.0.2-cp313-cp313-win_amd64.whl.metadata (7.8 kB)\n",
      "            Collecting numpy<2.1.0,>=2.0.0\n",
      "              Downloading numpy-2.0.2.tar.gz (18.9 MB)\n",
      "                 ---------------------------------------- 0.0/18.9 MB ? eta -:--:--\n",
      "                  --------------------------------------- 0.3/18.9 MB ? eta -:--:--\n",
      "                 - -------------------------------------- 0.5/18.9 MB 1.7 MB/s eta 0:00:11\n",
      "                 - -------------------------------------- 0.8/18.9 MB 1.7 MB/s eta 0:00:11\n",
      "                 -- ------------------------------------- 1.3/18.9 MB 1.5 MB/s eta 0:00:12\n",
      "                 -- ------------------------------------- 1.3/18.9 MB 1.5 MB/s eta 0:00:12\n",
      "                 --- ------------------------------------ 1.6/18.9 MB 1.3 MB/s eta 0:00:14\n",
      "                 --- ------------------------------------ 1.8/18.9 MB 1.3 MB/s eta 0:00:13\n",
      "                 ---- ----------------------------------- 2.1/18.9 MB 1.3 MB/s eta 0:00:14\n",
      "                 ---- ----------------------------------- 2.4/18.9 MB 1.3 MB/s eta 0:00:14\n",
      "                 ----- ---------------------------------- 2.6/18.9 MB 1.2 MB/s eta 0:00:14\n",
      "                 ------ --------------------------------- 2.9/18.9 MB 1.3 MB/s eta 0:00:13\n",
      "                 ------ --------------------------------- 3.1/18.9 MB 1.2 MB/s eta 0:00:13\n",
      "                 ------- -------------------------------- 3.4/18.9 MB 1.3 MB/s eta 0:00:13\n",
      "                 ------- -------------------------------- 3.7/18.9 MB 1.2 MB/s eta 0:00:13\n",
      "                 -------- ------------------------------- 3.9/18.9 MB 1.2 MB/s eta 0:00:13\n",
      "                 --------- ------------------------------ 4.5/18.9 MB 1.3 MB/s eta 0:00:11\n",
      "                 ---------- ----------------------------- 5.0/18.9 MB 1.4 MB/s eta 0:00:10\n",
      "                 ----------- ---------------------------- 5.2/18.9 MB 1.4 MB/s eta 0:00:10\n",
      "                 ------------ --------------------------- 5.8/18.9 MB 1.4 MB/s eta 0:00:10\n",
      "                 ------------- -------------------------- 6.3/18.9 MB 1.5 MB/s eta 0:00:09\n",
      "                 ------------- -------------------------- 6.6/18.9 MB 1.5 MB/s eta 0:00:09\n",
      "                 -------------- ------------------------- 7.1/18.9 MB 1.5 MB/s eta 0:00:08\n",
      "                 --------------- ------------------------ 7.3/18.9 MB 1.5 MB/s eta 0:00:08\n",
      "                 ---------------- ----------------------- 7.9/18.9 MB 1.6 MB/s eta 0:00:08\n",
      "                 ----------------- ---------------------- 8.1/18.9 MB 1.6 MB/s eta 0:00:07\n",
      "                 ----------------- ---------------------- 8.4/18.9 MB 1.6 MB/s eta 0:00:07\n",
      "                 ------------------ --------------------- 8.7/18.9 MB 1.5 MB/s eta 0:00:07\n",
      "                 ------------------ --------------------- 8.9/18.9 MB 1.5 MB/s eta 0:00:07\n",
      "                 ------------------- -------------------- 9.2/18.9 MB 1.5 MB/s eta 0:00:07\n",
      "                 -------------------- ------------------- 9.7/18.9 MB 1.5 MB/s eta 0:00:06\n",
      "                 --------------------- ------------------ 10.2/18.9 MB 1.6 MB/s eta 0:00:06\n",
      "                 ---------------------- ----------------- 10.7/18.9 MB 1.6 MB/s eta 0:00:06\n",
      "                 ----------------------- ---------------- 11.3/18.9 MB 1.6 MB/s eta 0:00:05\n",
      "                 ------------------------ --------------- 11.8/18.9 MB 1.6 MB/s eta 0:00:05\n",
      "                 ------------------------- -------------- 12.1/18.9 MB 1.6 MB/s eta 0:00:05\n",
      "                 -------------------------- ------------- 12.6/18.9 MB 1.7 MB/s eta 0:00:04\n",
      "                 --------------------------- ------------ 13.1/18.9 MB 1.7 MB/s eta 0:00:04\n",
      "                 ---------------------------- ----------- 13.6/18.9 MB 1.7 MB/s eta 0:00:04\n",
      "                 ----------------------------- ---------- 13.9/18.9 MB 1.7 MB/s eta 0:00:03\n",
      "                 ------------------------------ --------- 14.4/18.9 MB 1.7 MB/s eta 0:00:03\n",
      "                 ------------------------------- -------- 14.7/18.9 MB 1.7 MB/s eta 0:00:03\n",
      "                 -------------------------------- ------- 15.2/18.9 MB 1.7 MB/s eta 0:00:03\n",
      "                 -------------------------------- ------- 15.5/18.9 MB 1.7 MB/s eta 0:00:02\n",
      "                 --------------------------------- ------ 16.0/18.9 MB 1.7 MB/s eta 0:00:02\n",
      "                 ---------------------------------- ----- 16.3/18.9 MB 1.7 MB/s eta 0:00:02\n",
      "                 ---------------------------------- ----- 16.5/18.9 MB 1.7 MB/s eta 0:00:02\n",
      "                 ----------------------------------- ---- 16.8/18.9 MB 1.7 MB/s eta 0:00:02\n",
      "                 ------------------------------------ --- 17.0/18.9 MB 1.7 MB/s eta 0:00:02\n",
      "                 ------------------------------------- -- 17.6/18.9 MB 1.7 MB/s eta 0:00:01\n",
      "                 -------------------------------------- - 18.1/18.9 MB 1.7 MB/s eta 0:00:01\n",
      "                 -------------------------------------- - 18.4/18.9 MB 1.7 MB/s eta 0:00:01\n",
      "                 ---------------------------------------  18.6/18.9 MB 1.7 MB/s eta 0:00:01\n",
      "                 ---------------------------------------  18.9/18.9 MB 1.7 MB/s eta 0:00:01\n",
      "                 ---------------------------------------- 18.9/18.9 MB 1.7 MB/s eta 0:00:00\n",
      "              Installing build dependencies: started\n",
      "              Installing build dependencies: finished with status 'done'\n",
      "              Getting requirements to build wheel: started\n",
      "              Getting requirements to build wheel: finished with status 'done'\n",
      "              Installing backend dependencies: started\n",
      "              Installing backend dependencies: finished with status 'done'\n",
      "              Preparing metadata (pyproject.toml): started\n",
      "              Preparing metadata (pyproject.toml): finished with status 'error'\n",
      "              error: subprocess-exited-with-error\n",
      "      \n",
      "              Ãƒâ€” Preparing metadata (pyproject.toml) did not run successfully.\n",
      "              Ã¢â€\\x9dâ€š exit code: 1\n",
      "              Ã¢â€¢Â°Ã¢â€\\x9dâ‚¬> [19 lines of output]\n",
      "                  + c:\\Users\\hp\\AppData\\Local\\Programs\\Python\\Python313\\python.exe C:\\Users\\hp\\AppData\\Local\\Temp\\pip-install-5mzshtk7\\numpy_85c9c6ac80984f26aa7bc0714e054b74\\vendored-meson\\meson\\meson.py setup C:\\Users\\hp\\AppData\\Local\\Temp\\pip-install-5mzshtk7\\numpy_85c9c6ac80984f26aa7bc0714e054b74 C:\\Users\\hp\\AppData\\Local\\Temp\\pip-install-5mzshtk7\\numpy_85c9c6ac80984f26aa7bc0714e054b74\\.mesonpy-e9jo0w5b -Dbuildtype=release -Db_ndebug=if-release -Db_vscrt=md --native-file=C:\\Users\\hp\\AppData\\Local\\Temp\\pip-install-5mzshtk7\\numpy_85c9c6ac80984f26aa7bc0714e054b74\\.mesonpy-e9jo0w5b\\meson-python-native-file.ini\n",
      "                  The Meson build system\n",
      "                  Version: 1.4.99\n",
      "                  Source dir: C:\\Users\\hp\\AppData\\Local\\Temp\\pip-install-5mzshtk7\\numpy_85c9c6ac80984f26aa7bc0714e054b74\n",
      "                  Build dir: C:\\Users\\hp\\AppData\\Local\\Temp\\pip-install-5mzshtk7\\numpy_85c9c6ac80984f26aa7bc0714e054b74\\.mesonpy-e9jo0w5b\n",
      "                  Build type: native build\n",
      "                  Project name: NumPy\n",
      "                  Project version: 2.0.2\n",
      "                  C compiler for the host machine: gcc (gcc 8.1.0 \"gcc (x86_64-posix-seh-rev0, Built by MinGW-W64 project) 8.1.0\")\n",
      "                  C linker for the host machine: gcc ld.bfd 2.30\n",
      "                  C++ compiler for the host machine: c++ (gcc 8.1.0 \"c++ (x86_64-posix-seh-rev0, Built by MinGW-W64 project) 8.1.0\")\n",
      "                  C++ linker for the host machine: c++ ld.bfd 2.30\n",
      "                  Cython compiler for the host machine: cython (cython 3.0.11)\n",
      "                  Host machine cpu family: x86_64\n",
      "                  Host machine cpu: x86_64\n",
      "      \n",
      "                  ..\\meson.build:28:4: ERROR: Problem encountered: NumPy requires GCC >= 8.4\n",
      "      \n",
      "                  A full log can be found at C:\\Users\\hp\\AppData\\Local\\Temp\\pip-install-5mzshtk7\\numpy_85c9c6ac80984f26aa7bc0714e054b74\\.mesonpy-e9jo0w5b\\meson-logs\\meson-log.txt\n",
      "                  [end of output]\n",
      "      \n",
      "              note: This error originates from a subprocess, and is likely not a problem with pip.\n",
      "            error: metadata-generation-failed\n",
      "      \n",
      "            Ãƒâ€” Encountered error while generating package metadata.\n",
      "            Ã¢â€¢Â°Ã¢â€\\x9dâ‚¬> See above for output.\n",
      "      \n",
      "            note: This is an issue with the package mentioned above, not pip.\n",
      "            hint: See above for details.\n",
      "            [end of output]\n",
      "      \n",
      "        note: This error originates from a subprocess, and is likely not a problem with pip.\n",
      "      error: subprocess-exited-with-error\n",
      "      \n",
      "      Ã— pip subprocess to install build dependencies did not run successfully.\n",
      "      â”‚ exit code: 1\n",
      "      â•°â”€> See above for output.\n",
      "      \n",
      "      note: This error originates from a subprocess, and is likely not a problem with pip.\n",
      "      [end of output]\n",
      "  \n",
      "  note: This error originates from a subprocess, and is likely not a problem with pip.\n",
      "\n",
      "[notice] A new release of pip is available: 24.3.1 -> 25.0\n",
      "[notice] To update, run: python.exe -m pip install --upgrade pip\n",
      "error: subprocess-exited-with-error\n",
      "\n",
      "× pip subprocess to install build dependencies did not run successfully.\n",
      "│ exit code: 1\n",
      "╰─> See above for output.\n",
      "\n",
      "note: This error originates from a subprocess, and is likely not a problem with pip.\n"
     ]
    }
   ],
   "source": [
    "pip install spacy"
   ]
  },
  {
   "cell_type": "code",
   "execution_count": 6,
   "metadata": {},
   "outputs": [
    {
     "name": "stdout",
     "output_type": "stream",
     "text": [
      "Collecting gensim\n",
      "  Downloading gensim-4.3.3.tar.gz (23.3 MB)\n",
      "     ---------------------------------------- 0.0/23.3 MB ? eta -:--:--\n",
      "     ---------------------------------------- 0.3/23.3 MB ? eta -:--:--\n",
      "     ---------------------------------------- 0.3/23.3 MB ? eta -:--:--\n",
      "      --------------------------------------- 0.5/23.3 MB 1.1 MB/s eta 0:00:21\n",
      "     - -------------------------------------- 0.8/23.3 MB 1.1 MB/s eta 0:00:21\n",
      "     - -------------------------------------- 1.0/23.3 MB 1.1 MB/s eta 0:00:21\n",
      "     -- ------------------------------------- 1.6/23.3 MB 1.2 MB/s eta 0:00:19\n",
      "     -- ------------------------------------- 1.6/23.3 MB 1.2 MB/s eta 0:00:19\n",
      "     --- ------------------------------------ 2.1/23.3 MB 1.3 MB/s eta 0:00:17\n",
      "     ---- ----------------------------------- 2.4/23.3 MB 1.3 MB/s eta 0:00:17\n",
      "     ---- ----------------------------------- 2.9/23.3 MB 1.4 MB/s eta 0:00:15\n",
      "     ----- ---------------------------------- 3.1/23.3 MB 1.4 MB/s eta 0:00:15\n",
      "     ----- ---------------------------------- 3.1/23.3 MB 1.4 MB/s eta 0:00:15\n",
      "     ------ --------------------------------- 3.7/23.3 MB 1.4 MB/s eta 0:00:15\n",
      "     ------ --------------------------------- 3.9/23.3 MB 1.4 MB/s eta 0:00:14\n",
      "     ------- -------------------------------- 4.2/23.3 MB 1.4 MB/s eta 0:00:14\n",
      "     ------- -------------------------------- 4.5/23.3 MB 1.3 MB/s eta 0:00:15\n",
      "     -------- ------------------------------- 4.7/23.3 MB 1.4 MB/s eta 0:00:14\n",
      "     -------- ------------------------------- 5.0/23.3 MB 1.4 MB/s eta 0:00:14\n",
      "     --------- ------------------------------ 5.2/23.3 MB 1.4 MB/s eta 0:00:14\n",
      "     --------- ------------------------------ 5.5/23.3 MB 1.3 MB/s eta 0:00:14\n",
      "     --------- ------------------------------ 5.8/23.3 MB 1.3 MB/s eta 0:00:14\n",
      "     ---------- ----------------------------- 6.0/23.3 MB 1.3 MB/s eta 0:00:14\n",
      "     ---------- ----------------------------- 6.3/23.3 MB 1.3 MB/s eta 0:00:13\n",
      "     ----------- ---------------------------- 6.8/23.3 MB 1.4 MB/s eta 0:00:13\n",
      "     ------------ --------------------------- 7.1/23.3 MB 1.4 MB/s eta 0:00:12\n",
      "     ------------ --------------------------- 7.3/23.3 MB 1.4 MB/s eta 0:00:12\n",
      "     ------------- -------------------------- 7.6/23.3 MB 1.3 MB/s eta 0:00:12\n",
      "     ------------- -------------------------- 7.6/23.3 MB 1.3 MB/s eta 0:00:12\n",
      "     ------------- -------------------------- 8.1/23.3 MB 1.3 MB/s eta 0:00:12\n",
      "     -------------- ------------------------- 8.4/23.3 MB 1.3 MB/s eta 0:00:12\n",
      "     -------------- ------------------------- 8.7/23.3 MB 1.3 MB/s eta 0:00:11\n",
      "     --------------- ------------------------ 9.2/23.3 MB 1.4 MB/s eta 0:00:11\n",
      "     ---------------- ----------------------- 9.4/23.3 MB 1.4 MB/s eta 0:00:11\n",
      "     ----------------- ---------------------- 10.0/23.3 MB 1.4 MB/s eta 0:00:10\n",
      "     ----------------- ---------------------- 10.2/23.3 MB 1.4 MB/s eta 0:00:10\n",
      "     ------------------ --------------------- 10.5/23.3 MB 1.4 MB/s eta 0:00:10\n",
      "     ------------------ --------------------- 10.7/23.3 MB 1.4 MB/s eta 0:00:09\n",
      "     ------------------ --------------------- 11.0/23.3 MB 1.4 MB/s eta 0:00:09\n",
      "     ------------------- -------------------- 11.3/23.3 MB 1.4 MB/s eta 0:00:09\n",
      "     ------------------- -------------------- 11.3/23.3 MB 1.4 MB/s eta 0:00:09\n",
      "     ------------------- -------------------- 11.5/23.3 MB 1.4 MB/s eta 0:00:09\n",
      "     -------------------- ------------------- 11.8/23.3 MB 1.4 MB/s eta 0:00:09\n",
      "     --------------------- ------------------ 12.3/23.3 MB 1.4 MB/s eta 0:00:08\n",
      "     --------------------- ------------------ 12.6/23.3 MB 1.4 MB/s eta 0:00:08\n",
      "     ---------------------- ----------------- 12.8/23.3 MB 1.4 MB/s eta 0:00:08\n",
      "     ---------------------- ----------------- 13.1/23.3 MB 1.4 MB/s eta 0:00:08\n",
      "     ----------------------- ---------------- 13.6/23.3 MB 1.4 MB/s eta 0:00:07\n",
      "     ----------------------- ---------------- 13.6/23.3 MB 1.4 MB/s eta 0:00:07\n",
      "     ------------------------ --------------- 14.2/23.3 MB 1.4 MB/s eta 0:00:07\n",
      "     ------------------------ --------------- 14.4/23.3 MB 1.4 MB/s eta 0:00:07\n",
      "     ------------------------- -------------- 14.9/23.3 MB 1.4 MB/s eta 0:00:06\n",
      "     -------------------------- ------------- 15.2/23.3 MB 1.4 MB/s eta 0:00:06\n",
      "     -------------------------- ------------- 15.5/23.3 MB 1.4 MB/s eta 0:00:06\n",
      "     --------------------------- ------------ 15.7/23.3 MB 1.4 MB/s eta 0:00:06\n",
      "     --------------------------- ------------ 16.0/23.3 MB 1.4 MB/s eta 0:00:06\n",
      "     --------------------------- ------------ 16.3/23.3 MB 1.4 MB/s eta 0:00:06\n",
      "     ---------------------------- ----------- 16.5/23.3 MB 1.4 MB/s eta 0:00:05\n",
      "     ---------------------------- ----------- 16.8/23.3 MB 1.4 MB/s eta 0:00:05\n",
      "     ----------------------------- ---------- 17.3/23.3 MB 1.4 MB/s eta 0:00:05\n",
      "     ------------------------------ --------- 17.6/23.3 MB 1.4 MB/s eta 0:00:05\n",
      "     ------------------------------ --------- 17.8/23.3 MB 1.4 MB/s eta 0:00:04\n",
      "     ------------------------------ --------- 17.8/23.3 MB 1.4 MB/s eta 0:00:04\n",
      "     ------------------------------- -------- 18.1/23.3 MB 1.4 MB/s eta 0:00:04\n",
      "     ------------------------------- -------- 18.4/23.3 MB 1.4 MB/s eta 0:00:04\n",
      "     -------------------------------- ------- 18.6/23.3 MB 1.4 MB/s eta 0:00:04\n",
      "     -------------------------------- ------- 18.6/23.3 MB 1.4 MB/s eta 0:00:04\n",
      "     -------------------------------- ------- 18.9/23.3 MB 1.4 MB/s eta 0:00:04\n",
      "     -------------------------------- ------- 19.1/23.3 MB 1.3 MB/s eta 0:00:04\n",
      "     --------------------------------- ------ 19.4/23.3 MB 1.3 MB/s eta 0:00:03\n",
      "     --------------------------------- ------ 19.7/23.3 MB 1.4 MB/s eta 0:00:03\n",
      "     ---------------------------------- ----- 19.9/23.3 MB 1.4 MB/s eta 0:00:03\n",
      "     ---------------------------------- ----- 20.2/23.3 MB 1.3 MB/s eta 0:00:03\n",
      "     ----------------------------------- ---- 20.4/23.3 MB 1.3 MB/s eta 0:00:03\n",
      "     ----------------------------------- ---- 20.7/23.3 MB 1.3 MB/s eta 0:00:02\n",
      "     ------------------------------------ --- 21.0/23.3 MB 1.3 MB/s eta 0:00:02\n",
      "     ------------------------------------ --- 21.2/23.3 MB 1.3 MB/s eta 0:00:02\n",
      "     ------------------------------------ --- 21.5/23.3 MB 1.3 MB/s eta 0:00:02\n",
      "     ------------------------------------- -- 21.8/23.3 MB 1.3 MB/s eta 0:00:02\n",
      "     ------------------------------------- -- 22.0/23.3 MB 1.3 MB/s eta 0:00:01\n",
      "     -------------------------------------- - 22.5/23.3 MB 1.3 MB/s eta 0:00:01\n",
      "     ---------------------------------------  22.8/23.3 MB 1.3 MB/s eta 0:00:01\n",
      "     ---------------------------------------- 23.3/23.3 MB 1.3 MB/s eta 0:00:00\n",
      "  Installing build dependencies: started\n",
      "  Installing build dependencies: still running...\n",
      "  Installing build dependencies: finished with status 'error'\n",
      "Note: you may need to restart the kernel to use updated packages.\n"
     ]
    },
    {
     "name": "stderr",
     "output_type": "stream",
     "text": [
      "  error: subprocess-exited-with-error\n",
      "  \n",
      "  × pip subprocess to install build dependencies did not run successfully.\n",
      "  │ exit code: 2\n",
      "  ╰─> [223 lines of output]\n",
      "      Ignoring numpy: markers 'python_version == \"3.8\" and platform_machine not in \"arm64|aarch64\"' don't match your environment\n",
      "      Collecting Cython<3.0.0,>=0.29.32\n",
      "        Using cached Cython-0.29.37-py2.py3-none-any.whl.metadata (3.1 kB)\n",
      "      Collecting oldest-supported-numpy\n",
      "        Downloading oldest_supported_numpy-2023.12.21-py3-none-any.whl.metadata (9.8 kB)\n",
      "      Collecting setuptools\n",
      "        Using cached setuptools-75.8.0-py3-none-any.whl.metadata (6.7 kB)\n",
      "      Collecting wheel\n",
      "        Using cached wheel-0.45.1-py3-none-any.whl.metadata (2.3 kB)\n",
      "      Collecting numpy (from oldest-supported-numpy)\n",
      "        Using cached numpy-2.2.2-cp313-cp313-win_amd64.whl.metadata (60 kB)\n",
      "      Downloading Cython-0.29.37-py2.py3-none-any.whl (989 kB)\n",
      "         ---------------------------------------- 0.0/989.5 kB ? eta -:--:--\n",
      "         ---------------------------------------- 0.0/989.5 kB ? eta -:--:--\n",
      "         ---------------------------------------- 0.0/989.5 kB ? eta -:--:--\n",
      "         ---------------------------------------- 0.0/989.5 kB ? eta -:--:--\n",
      "         ---------------------------------------- 0.0/989.5 kB ? eta -:--:--\n",
      "         ---------------------------------------- 0.0/989.5 kB ? eta -:--:--\n",
      "         ---------------------------------------- 0.0/989.5 kB ? eta -:--:--\n",
      "         ---------------------------------------- 0.0/989.5 kB ? eta -:--:--\n",
      "         ---------------------------------------- 0.0/989.5 kB ? eta -:--:--\n",
      "         ---------------------------------------- 0.0/989.5 kB ? eta -:--:--\n",
      "         ---------------------------------------- 0.0/989.5 kB ? eta -:--:--\n",
      "         ---------------------------------------- 0.0/989.5 kB ? eta -:--:--\n",
      "         ---------------------------------------- 0.0/989.5 kB ? eta -:--:--\n",
      "         ---------------------------------------- 0.0/989.5 kB ? eta -:--:--\n",
      "         ---------------------------------------- 0.0/989.5 kB ? eta -:--:--\n",
      "         ---------------------------------------- 0.0/989.5 kB ? eta -:--:--\n",
      "         ---------------------------------------- 0.0/989.5 kB ? eta -:--:--\n",
      "         ---------------------------------------- 0.0/989.5 kB ? eta -:--:--\n",
      "         ---------------------------------------- 0.0/989.5 kB ? eta -:--:--\n",
      "         ---------------------------------------- 0.0/989.5 kB ? eta -:--:--\n",
      "         ---------------------------------------- 0.0/989.5 kB ? eta -:--:--\n",
      "         ---------------------------------------- 0.0/989.5 kB ? eta -:--:--\n",
      "         ---------------------------------------- 0.0/989.5 kB ? eta -:--:--\n",
      "         ---------------------------------------- 0.0/989.5 kB ? eta -:--:--\n",
      "         ---------------------------------------- 0.0/989.5 kB ? eta -:--:--\n",
      "         ---------------------------------------- 0.0/989.5 kB ? eta -:--:--\n",
      "         ---------------------------------------- 0.0/989.5 kB ? eta -:--:--\n",
      "         ---------------------------------------- 0.0/989.5 kB ? eta -:--:--\n",
      "         ---------------------------------------- 0.0/989.5 kB ? eta -:--:--\n",
      "         ---------------------------------------- 0.0/989.5 kB ? eta -:--:--\n",
      "         ---------------------------------------- 0.0/989.5 kB ? eta -:--:--\n",
      "         ---------------------------------------- 0.0/989.5 kB ? eta -:--:--\n",
      "         ---------------------------------------- 0.0/989.5 kB ? eta -:--:--\n",
      "         ---------------------------------------- 0.0/989.5 kB ? eta -:--:--\n",
      "         ---------------------------------------- 0.0/989.5 kB ? eta -:--:--\n",
      "         ---------------------------------------- 0.0/989.5 kB ? eta -:--:--\n",
      "         ---------------------------------------- 0.0/989.5 kB ? eta -:--:--\n",
      "         ---------------------------------------- 0.0/989.5 kB ? eta -:--:--\n",
      "         ---------------------------------------- 0.0/989.5 kB ? eta -:--:--\n",
      "         ---------------------------------------- 0.0/989.5 kB ? eta -:--:--\n",
      "         ---------------------------------------- 0.0/989.5 kB ? eta -:--:--\n",
      "         ---------------------------------------- 0.0/989.5 kB ? eta -:--:--\n",
      "         ---------------------------------------- 0.0/989.5 kB ? eta -:--:--\n",
      "         ---------------------------------------- 0.0/989.5 kB ? eta -:--:--\n",
      "         ---------------------------------------- 0.0/989.5 kB ? eta -:--:--\n",
      "         ---------------------------------------- 0.0/989.5 kB ? eta -:--:--\n",
      "         ---------------------------------------- 0.0/989.5 kB ? eta -:--:--\n",
      "         ---------------------------------------- 0.0/989.5 kB ? eta -:--:--\n",
      "         ---------------------------------------- 0.0/989.5 kB ? eta -:--:--\n",
      "         ---------------------------------------- 0.0/989.5 kB ? eta -:--:--\n",
      "         ---------------------------------------- 0.0/989.5 kB ? eta -:--:--\n",
      "         ---------------------------------------- 0.0/989.5 kB ? eta -:--:--\n",
      "         ---------------------------------------- 0.0/989.5 kB ? eta -:--:--\n",
      "         ---------------------------------------- 0.0/989.5 kB ? eta -:--:--\n",
      "         ---------------------------------------- 0.0/989.5 kB ? eta -:--:--\n",
      "         ---------------------------------------- 0.0/989.5 kB ? eta -:--:--\n",
      "         ---------------------------------------- 0.0/989.5 kB ? eta -:--:--\n",
      "         ---------------------------------------- 0.0/989.5 kB ? eta -:--:--\n",
      "         ---------------------------------------- 0.0/989.5 kB ? eta -:--:--\n",
      "         ---------------------------------------- 0.0/989.5 kB ? eta -:--:--\n",
      "         ---------------------------------------- 0.0/989.5 kB ? eta -:--:--\n",
      "         ---------------------------------------- 0.0/989.5 kB ? eta -:--:--\n",
      "         ---------------------------------------- 0.0/989.5 kB ? eta -:--:--\n",
      "         ---------------------------------------- 0.0/989.5 kB ? eta -:--:--\n",
      "         ---------------------------------------- 0.0/989.5 kB ? eta -:--:--\n",
      "         ---------------------------------------- 0.0/989.5 kB ? eta -:--:--\n",
      "         ---------------------------------------- 0.0/989.5 kB ? eta -:--:--\n",
      "         ---------------------------------------- 0.0/989.5 kB ? eta -:--:--\n",
      "         ---------------------------------------- 0.0/989.5 kB ? eta -:--:--\n",
      "         ---------------------------------------- 0.0/989.5 kB ? eta -:--:--\n",
      "         ---------------------------------------- 0.0/989.5 kB ? eta -:--:--\n",
      "         ---------------------------------------- 0.0/989.5 kB ? eta -:--:--\n",
      "         ---------------------------------------- 0.0/989.5 kB ? eta -:--:--\n",
      "         ---------------------------------------- 0.0/989.5 kB ? eta -:--:--\n",
      "         ---------------------------------------- 0.0/989.5 kB ? eta -:--:--\n",
      "         ---------------------------------------- 0.0/989.5 kB ? eta -:--:--\n",
      "         ---------------------------------------- 0.0/989.5 kB ? eta -:--:--\n",
      "         ---------------------------------------- 0.0/989.5 kB ? eta -:--:--\n",
      "         ---------------------------------------- 0.0/989.5 kB ? eta -:--:--\n",
      "         ---------------------------------------- 0.0/989.5 kB ? eta -:--:--\n",
      "         ---------------------------------------- 0.0/989.5 kB ? eta -:--:--\n",
      "         ---------------------------------------- 0.0/989.5 kB ? eta -:--:--\n",
      "         ---------------------------------------- 0.0/989.5 kB ? eta -:--:--\n",
      "         ---------------------------------------- 0.0/989.5 kB ? eta -:--:--\n",
      "         ---------------------------------------- 0.0/989.5 kB ? eta -:--:--\n",
      "         ---------------------------------------- 0.0/989.5 kB ? eta -:--:--\n",
      "         ---------------------------------------- 0.0/989.5 kB ? eta -:--:--\n",
      "         ---------------------------------------- 0.0/989.5 kB ? eta -:--:--\n",
      "         ---------------------------------------- 0.0/989.5 kB ? eta -:--:--\n",
      "         ---------------------------------------- 0.0/989.5 kB ? eta -:--:--\n",
      "         ---------------------------------------- 0.0/989.5 kB ? eta -:--:--\n",
      "         ---------------------------------------- 0.0/989.5 kB ? eta -:--:--\n",
      "         ---------------------------------------- 0.0/989.5 kB ? eta -:--:--\n",
      "         ---------------------------------------- 0.0/989.5 kB ? eta -:--:--\n",
      "         ---------------------------------------- 0.0/989.5 kB ? eta -:--:--\n",
      "         ---------------------------------------- 0.0/989.5 kB ? eta -:--:--\n",
      "         ---------------------------------------- 0.0/989.5 kB ? eta -:--:--\n",
      "         ---------------------------------------- 0.0/989.5 kB ? eta -:--:--\n",
      "         ---------------------------------------- 0.0/989.5 kB ? eta -:--:--\n",
      "         ---------------------------------------- 0.0/989.5 kB ? eta -:--:--\n",
      "         ---------------------------------------- 0.0/989.5 kB ? eta -:--:--\n",
      "         ---------------------------------------- 0.0/989.5 kB ? eta -:--:--\n",
      "         ---------------------------------------- 0.0/989.5 kB ? eta -:--:--\n",
      "         ---------------------------------------- 0.0/989.5 kB ? eta -:--:--\n",
      "         ---------------------------------------- 0.0/989.5 kB ? eta -:--:--\n",
      "         ---------------------------------------- 0.0/989.5 kB ? eta -:--:--\n",
      "         ---------------------------------------- 0.0/989.5 kB ? eta -:--:--\n",
      "         ---------------------------------------- 0.0/989.5 kB ? eta -:--:--\n",
      "         ---------------------------------------- 0.0/989.5 kB ? eta -:--:--\n",
      "         ---------------------------------------- 0.0/989.5 kB ? eta -:--:--\n",
      "         ---------------------------------------- 0.0/989.5 kB ? eta -:--:--\n",
      "         ---------------------------------------- 0.0/989.5 kB ? eta -:--:--\n",
      "         ---------------------------------------- 0.0/989.5 kB ? eta -:--:--\n",
      "         ---------------------------------------- 0.0/989.5 kB ? eta -:--:--\n",
      "         ---------------------------------------- 0.0/989.5 kB ? eta -:--:--\n",
      "         ---------------------------------------- 0.0/989.5 kB ? eta -:--:--\n",
      "         ---------------------------------------- 0.0/989.5 kB ? eta -:--:--\n",
      "         ---------------------------------------- 0.0/989.5 kB ? eta -:--:--\n",
      "         ---------------------------------------- 0.0/989.5 kB ? eta -:--:--\n",
      "         ---------------------------------------- 0.0/989.5 kB ? eta -:--:--\n",
      "         ---------------------------------------- 0.0/989.5 kB ? eta -:--:--\n",
      "         ---------------------------------------- 0.0/989.5 kB ? eta -:--:--\n",
      "         ---------------------------------------- 0.0/989.5 kB ? eta -:--:--\n",
      "         ---------------------------------------- 0.0/989.5 kB ? eta -:--:--\n",
      "         ---------------------------------------- 0.0/989.5 kB ? eta -:--:--\n",
      "         ---------------------------------------- 0.0/989.5 kB ? eta -:--:--\n",
      "         ---------------------------------------- 0.0/989.5 kB ? eta -:--:--\n",
      "         ---------------------------------------- 0.0/989.5 kB ? eta -:--:--\n",
      "         ---------------------------------------- 0.0/989.5 kB ? eta -:--:--\n",
      "      ERROR: Exception:\n",
      "      Traceback (most recent call last):\n",
      "        File \"C:\\Users\\hp\\AppData\\Local\\Programs\\Python\\Python313\\Lib\\site-packages\\pip\\_vendor\\urllib3\\response.py\", line 438, in _error_catcher\n",
      "          yield\n",
      "        File \"C:\\Users\\hp\\AppData\\Local\\Programs\\Python\\Python313\\Lib\\site-packages\\pip\\_vendor\\urllib3\\response.py\", line 561, in read\n",
      "          data = self._fp_read(amt) if not fp_closed else b\"\"\n",
      "                 ~~~~~~~~~~~~~^^^^^\n",
      "        File \"C:\\Users\\hp\\AppData\\Local\\Programs\\Python\\Python313\\Lib\\site-packages\\pip\\_vendor\\urllib3\\response.py\", line 527, in _fp_read\n",
      "          return self._fp.read(amt) if amt is not None else self._fp.read()\n",
      "                 ~~~~~~~~~~~~~^^^^^\n",
      "        File \"C:\\Users\\hp\\AppData\\Local\\Programs\\Python\\Python313\\Lib\\site-packages\\pip\\_vendor\\cachecontrol\\filewrapper.py\", line 98, in read\n",
      "          data: bytes = self.__fp.read(amt)\n",
      "                        ~~~~~~~~~~~~~~^^^^^\n",
      "        File \"c:\\Users\\hp\\AppData\\Local\\Programs\\Python\\Python313\\Lib\\http\\client.py\", line 479, in read\n",
      "          s = self.fp.read(amt)\n",
      "        File \"c:\\Users\\hp\\AppData\\Local\\Programs\\Python\\Python313\\Lib\\socket.py\", line 719, in readinto\n",
      "          return self._sock.recv_into(b)\n",
      "                 ~~~~~~~~~~~~~~~~~~~~^^^\n",
      "        File \"c:\\Users\\hp\\AppData\\Local\\Programs\\Python\\Python313\\Lib\\ssl.py\", line 1304, in recv_into\n",
      "          return self.read(nbytes, buffer)\n",
      "                 ~~~~~~~~~^^^^^^^^^^^^^^^^\n",
      "        File \"c:\\Users\\hp\\AppData\\Local\\Programs\\Python\\Python313\\Lib\\ssl.py\", line 1138, in read\n",
      "          return self._sslobj.read(len, buffer)\n",
      "                 ~~~~~~~~~~~~~~~~~^^^^^^^^^^^^^\n",
      "      TimeoutError: The read operation timed out\n",
      "      \n",
      "      During handling of the above exception, another exception occurred:\n",
      "      \n",
      "      Traceback (most recent call last):\n",
      "        File \"C:\\Users\\hp\\AppData\\Local\\Programs\\Python\\Python313\\Lib\\site-packages\\pip\\_internal\\cli\\base_command.py\", line 105, in _run_wrapper\n",
      "          status = _inner_run()\n",
      "        File \"C:\\Users\\hp\\AppData\\Local\\Programs\\Python\\Python313\\Lib\\site-packages\\pip\\_internal\\cli\\base_command.py\", line 96, in _inner_run\n",
      "          return self.run(options, args)\n",
      "                 ~~~~~~~~^^^^^^^^^^^^^^^\n",
      "        File \"C:\\Users\\hp\\AppData\\Local\\Programs\\Python\\Python313\\Lib\\site-packages\\pip\\_internal\\cli\\req_command.py\", line 67, in wrapper\n",
      "          return func(self, options, args)\n",
      "        File \"C:\\Users\\hp\\AppData\\Local\\Programs\\Python\\Python313\\Lib\\site-packages\\pip\\_internal\\commands\\install.py\", line 379, in run\n",
      "          requirement_set = resolver.resolve(\n",
      "              reqs, check_supported_wheels=not options.target_dir\n",
      "          )\n",
      "        File \"C:\\Users\\hp\\AppData\\Local\\Programs\\Python\\Python313\\Lib\\site-packages\\pip\\_internal\\resolution\\resolvelib\\resolver.py\", line 179, in resolve\n",
      "          self.factory.preparer.prepare_linked_requirements_more(reqs)\n",
      "          ~~~~~~~~~~~~~~~~~~~~~~~~~~~~~~~~~~~~~~~~~~~~~~~~~~~~~~^^^^^^\n",
      "        File \"C:\\Users\\hp\\AppData\\Local\\Programs\\Python\\Python313\\Lib\\site-packages\\pip\\_internal\\operations\\prepare.py\", line 554, in prepare_linked_requirements_more\n",
      "          self._complete_partial_requirements(\n",
      "          ~~~~~~~~~~~~~~~~~~~~~~~~~~~~~~~~~~~^\n",
      "              partially_downloaded_reqs,\n",
      "              ^^^^^^^^^^^^^^^^^^^^^^^^^^\n",
      "              parallel_builds=parallel_builds,\n",
      "              ^^^^^^^^^^^^^^^^^^^^^^^^^^^^^^^^\n",
      "          )\n",
      "          ^\n",
      "        File \"C:\\Users\\hp\\AppData\\Local\\Programs\\Python\\Python313\\Lib\\site-packages\\pip\\_internal\\operations\\prepare.py\", line 469, in _complete_partial_requirements\n",
      "          for link, (filepath, _) in batch_download:\n",
      "                                     ^^^^^^^^^^^^^^\n",
      "        File \"C:\\Users\\hp\\AppData\\Local\\Programs\\Python\\Python313\\Lib\\site-packages\\pip\\_internal\\network\\download.py\", line 184, in __call__\n",
      "          for chunk in chunks:\n",
      "                       ^^^^^^\n",
      "        File \"C:\\Users\\hp\\AppData\\Local\\Programs\\Python\\Python313\\Lib\\site-packages\\pip\\_internal\\cli\\progress_bars.py\", line 55, in _rich_progress_bar\n",
      "          for chunk in iterable:\n",
      "                       ^^^^^^^^\n",
      "        File \"C:\\Users\\hp\\AppData\\Local\\Programs\\Python\\Python313\\Lib\\site-packages\\pip\\_internal\\network\\utils.py\", line 65, in response_chunks\n",
      "          for chunk in response.raw.stream(\n",
      "                       ~~~~~~~~~~~~~~~~~~~^\n",
      "              chunk_size,\n",
      "              ^^^^^^^^^^^\n",
      "          ...<22 lines>...\n",
      "              decode_content=False,\n",
      "              ^^^^^^^^^^^^^^^^^^^^^\n",
      "          ):\n",
      "          ^\n",
      "        File \"C:\\Users\\hp\\AppData\\Local\\Programs\\Python\\Python313\\Lib\\site-packages\\pip\\_vendor\\urllib3\\response.py\", line 622, in stream\n",
      "          data = self.read(amt=amt, decode_content=decode_content)\n",
      "        File \"C:\\Users\\hp\\AppData\\Local\\Programs\\Python\\Python313\\Lib\\site-packages\\pip\\_vendor\\urllib3\\response.py\", line 560, in read\n",
      "          with self._error_catcher():\n",
      "               ~~~~~~~~~~~~~~~~~~~^^\n",
      "        File \"c:\\Users\\hp\\AppData\\Local\\Programs\\Python\\Python313\\Lib\\contextlib.py\", line 162, in __exit__\n",
      "          self.gen.throw(value)\n",
      "          ~~~~~~~~~~~~~~^^^^^^^\n",
      "        File \"C:\\Users\\hp\\AppData\\Local\\Programs\\Python\\Python313\\Lib\\site-packages\\pip\\_vendor\\urllib3\\response.py\", line 443, in _error_catcher\n",
      "          raise ReadTimeoutError(self._pool, None, \"Read timed out.\")\n",
      "      pip._vendor.urllib3.exceptions.ReadTimeoutError: HTTPSConnectionPool(host='files.pythonhosted.org', port=443): Read timed out.\n",
      "      [end of output]\n",
      "  \n",
      "  note: This error originates from a subprocess, and is likely not a problem with pip.\n",
      "\n",
      "[notice] A new release of pip is available: 24.3.1 -> 25.0\n",
      "[notice] To update, run: python.exe -m pip install --upgrade pip\n",
      "error: subprocess-exited-with-error\n",
      "\n",
      "× pip subprocess to install build dependencies did not run successfully.\n",
      "│ exit code: 2\n",
      "╰─> See above for output.\n",
      "\n",
      "note: This error originates from a subprocess, and is likely not a problem with pip.\n"
     ]
    }
   ],
   "source": [
    "pip install gensim"
   ]
  },
  {
   "cell_type": "code",
   "execution_count": 13,
   "metadata": {},
   "outputs": [
    {
     "name": "stdout",
     "output_type": "stream",
     "text": [
      "Collecting gensim\n",
      "  Using cached gensim-4.3.3-cp311-cp311-win_amd64.whl (24.0 MB)\n",
      "Requirement already satisfied: numpy<2.0,>=1.18.5 in c:\\users\\hp\\appdata\\local\\programs\\python\\python311\\lib\\site-packages (from gensim) (1.26.4)\n",
      "Collecting scipy<1.14.0,>=1.7.0\n",
      "  Using cached scipy-1.13.1-cp311-cp311-win_amd64.whl (46.2 MB)\n",
      "Requirement already satisfied: smart-open>=1.8.1 in c:\\users\\hp\\appdata\\local\\programs\\python\\python311\\lib\\site-packages (from gensim) (7.1.0)\n",
      "Requirement already satisfied: wrapt in c:\\users\\hp\\appdata\\local\\programs\\python\\python311\\lib\\site-packages (from smart-open>=1.8.1->gensim) (1.17.2)\n",
      "Installing collected packages: scipy, gensim\n",
      "Successfully installed gensim-4.3.3 scipy-1.13.1\n",
      "Note: you may need to restart the kernel to use updated packages.\n"
     ]
    },
    {
     "name": "stderr",
     "output_type": "stream",
     "text": [
      "\n",
      "[notice] A new release of pip available: 22.3 -> 25.0\n",
      "[notice] To update, run: python.exe -m pip install --upgrade pip\n"
     ]
    }
   ],
   "source": [
    "pip install gensim"
   ]
  },
  {
   "cell_type": "code",
   "execution_count": 5,
   "metadata": {},
   "outputs": [],
   "source": [
    "import nltk\n",
    "from nltk.tokenize import word_tokenize, sent_tokenize, TweetTokenizer\n",
    "from textblob import TextBlob\n",
    "from nltk.tokenize import word_tokenize"
   ]
  },
  {
   "cell_type": "code",
   "execution_count": 6,
   "metadata": {},
   "outputs": [
    {
     "name": "stderr",
     "output_type": "stream",
     "text": [
      "[nltk_data] Downloading package punkt to\n",
      "[nltk_data]     C:\\Users\\hp\\AppData\\Roaming\\nltk_data...\n",
      "[nltk_data]   Package punkt is already up-to-date!\n"
     ]
    },
    {
     "data": {
      "text/plain": [
       "True"
      ]
     },
     "execution_count": 6,
     "metadata": {},
     "output_type": "execute_result"
    }
   ],
   "source": [
    "nltk.download('punkt')"
   ]
  },
  {
   "cell_type": "code",
   "execution_count": 7,
   "metadata": {},
   "outputs": [],
   "source": [
    "text = \"Natural Language Processing (NLP) is amazing! 🤖📚 It helps machines understand human language. But it's not easy—negation (e.g., 'I don’t like this!') makes it tricky. 😅💡\""
   ]
  },
  {
   "cell_type": "code",
   "execution_count": 8,
   "metadata": {},
   "outputs": [
    {
     "name": "stderr",
     "output_type": "stream",
     "text": [
      "[nltk_data] Downloading package punkt_tab to\n",
      "[nltk_data]     C:\\Users\\hp\\AppData\\Roaming\\nltk_data...\n",
      "[nltk_data]   Package punkt_tab is already up-to-date!\n"
     ]
    },
    {
     "data": {
      "text/plain": [
       "True"
      ]
     },
     "execution_count": 8,
     "metadata": {},
     "output_type": "execute_result"
    }
   ],
   "source": [
    "nltk.download('punkt_tab')"
   ]
  },
  {
   "cell_type": "code",
   "execution_count": 9,
   "metadata": {},
   "outputs": [
    {
     "name": "stdout",
     "output_type": "stream",
     "text": [
      "Word Tokenization: ['Natural', 'Language', 'Processing', '(', 'NLP', ')', 'is', 'amazing', '!', '🤖📚', 'It', 'helps', 'machines', 'understand', 'human', 'language', '.', 'But', 'it', \"'s\", 'not', 'easy—negation', '(', 'e.g.', ',', \"'\", 'I', 'don', '’', 't', 'like', 'this', '!', \"'\", ')', 'makes', 'it', 'tricky', '.', '😅💡']\n"
     ]
    }
   ],
   "source": [
    "word_tokens = word_tokenize(text)\n",
    "print(\"Word Tokenization:\", word_tokens)"
   ]
  },
  {
   "cell_type": "code",
   "execution_count": 10,
   "metadata": {},
   "outputs": [
    {
     "name": "stdout",
     "output_type": "stream",
     "text": [
      "\n",
      "Sentence Tokenization: ['Natural Language Processing (NLP) is amazing!', '🤖📚 It helps machines understand human language.', \"But it's not easy—negation (e.g., 'I don’t like this!')\", 'makes it tricky.', '😅💡']\n"
     ]
    }
   ],
   "source": [
    "sentence_tokens = sent_tokenize(text)\n",
    "print(\"\\nSentence Tokenization:\", sentence_tokens)"
   ]
  },
  {
   "cell_type": "code",
   "execution_count": 11,
   "metadata": {},
   "outputs": [
    {
     "name": "stdout",
     "output_type": "stream",
     "text": [
      "\n",
      "Punctuation-based Tokenization: ['(', ')', '!', '.', \"'s\", '(', 'e.g.', ',', \"'\", '!', \"'\", ')', '.']\n"
     ]
    }
   ],
   "source": [
    "punctuation_tokens = [token for token in word_tokenize(text) if any(c in token for c in \"!\\\"#$%&'()*+,-./:;<=>?@[\\\\]^_`{|}~\")]\n",
    "print(\"\\nPunctuation-based Tokenization:\", punctuation_tokens)"
   ]
  },
  {
   "cell_type": "code",
   "execution_count": 12,
   "metadata": {},
   "outputs": [
    {
     "name": "stdout",
     "output_type": "stream",
     "text": [
      "\n",
      "Treebank Word Tokenization: ['Natural', 'Language', 'Processing', '(', 'NLP', ')', 'is', 'amazing', '!', '🤖📚', 'It', 'helps', 'machines', 'understand', 'human', 'language.', 'But', 'it', \"'s\", 'not', 'easy—negation', '(', 'e.g.', ',', \"'I\", 'don’t', 'like', 'this', '!', \"'\", ')', 'makes', 'it', 'tricky.', '😅💡']\n"
     ]
    }
   ],
   "source": [
    "from nltk.tokenize import TreebankWordTokenizer\n",
    "treebank_tokenizer = TreebankWordTokenizer()\n",
    "treebank_tokens = treebank_tokenizer.tokenize(text)\n",
    "print(\"\\nTreebank Word Tokenization:\", treebank_tokens)"
   ]
  },
  {
   "cell_type": "code",
   "execution_count": 13,
   "metadata": {},
   "outputs": [
    {
     "name": "stdout",
     "output_type": "stream",
     "text": [
      "\n",
      "Tweet Tokenization: ['Natural', 'Language', 'Processing', '(', 'NLP', ')', 'is', 'amazing', '!', '🤖', '📚', 'It', 'helps', 'machines', 'understand', 'human', 'language', '.', 'But', \"it's\", 'not', 'easy', '—', 'negation', '(', 'e', '.', 'g', '.', ',', \"'\", 'I', 'don', '’', 't', 'like', 'this', '!', \"'\", ')', 'makes', 'it', 'tricky', '.', '😅', '💡']\n"
     ]
    }
   ],
   "source": [
    "tweet_tokenizer = TweetTokenizer()\n",
    "tweet_tokens = tweet_tokenizer.tokenize(text)\n",
    "print(\"\\nTweet Tokenization:\", tweet_tokens)"
   ]
  },
  {
   "cell_type": "code",
   "execution_count": 14,
   "metadata": {},
   "outputs": [
    {
     "name": "stdout",
     "output_type": "stream",
     "text": [
      "\n",
      "Multi-Word Expression Tokenization: ['Natural Language Processing', '(', 'NLP', ')', 'is', 'amazing', '!', '🤖📚', 'It', 'helps', 'machines', 'understand', 'human', 'language', '.', 'But', 'it', \"'s\", 'not', 'easy—negation', '(', 'e.g.', ',', \"'\", 'I', 'don', '’', 't', 'like', 'this', '!', \"'\", ')', 'makes', 'it', 'tricky', '.', '😅💡']\n"
     ]
    }
   ],
   "source": [
    "from nltk.tokenize import MWETokenizer\n",
    "mwe_tokenizer = MWETokenizer([('Natural', 'Language', 'Processing'), ('voice', 'assistants')], separator=' ')\n",
    "mwe_tokens = mwe_tokenizer.tokenize(word_tokenize(text))\n",
    "print(\"\\nMulti-Word Expression Tokenization:\", mwe_tokens)"
   ]
  },
  {
   "cell_type": "code",
   "execution_count": 15,
   "metadata": {},
   "outputs": [
    {
     "name": "stdout",
     "output_type": "stream",
     "text": [
      "\n",
      "TextBlob Word Tokenization: ['Natural', 'Language', 'Processing', 'NLP', 'is', 'amazing', '🤖📚', 'It', 'helps', 'machines', 'understand', 'human', 'language', 'But', 'it', \"'s\", 'not', 'easy—negation', 'e.g', 'I', 'don', '’', 't', 'like', 'this', 'makes', 'it', 'tricky', '😅💡']\n"
     ]
    }
   ],
   "source": [
    "blob = TextBlob(text)\n",
    "textblob_tokens = blob.words\n",
    "print(\"\\nTextBlob Word Tokenization:\", textblob_tokens)"
   ]
  },
  {
   "cell_type": "code",
   "execution_count": 16,
   "metadata": {},
   "outputs": [
    {
     "name": "stdout",
     "output_type": "stream",
     "text": [
      "\n",
      "spaCy Tokenization: ['Natural', 'Language', 'Processing', '(', 'NLP', ')', 'is', 'amazing', '!', '🤖', '📚', 'It', 'helps', 'machines', 'understand', 'human', 'language', '.', 'But', 'it', \"'s\", 'not', 'easy', '—', 'negation', '(', 'e.g.', ',', \"'\", 'I', 'do', 'n’t', 'like', 'this', '!', \"'\", ')', 'makes', 'it', 'tricky', '.', '😅', '💡']\n"
     ]
    }
   ],
   "source": [
    "import spacy\n",
    "nlp = spacy.load(\"en_core_web_sm\")\n",
    "doc = nlp(text)\n",
    "spacy_tokens = [token.text for token in doc]\n",
    "print(\"\\nspaCy Tokenization:\", spacy_tokens)"
   ]
  },
  {
   "cell_type": "code",
   "execution_count": 20,
   "metadata": {},
   "outputs": [
    {
     "name": "stdout",
     "output_type": "stream",
     "text": [
      "\n",
      "Gensim Word Tokenization: ['natural', 'language', 'processing', 'nlp', 'is', 'amazing', 'it', 'helps', 'machines', 'understand', 'human', 'language', 'but', 'it', 'not', 'easy', 'negation', 'don', 'like', 'this', 'makes', 'it', 'tricky']\n"
     ]
    }
   ],
   "source": [
    "from gensim.utils import simple_preprocess\n",
    "gensim_tokens = simple_preprocess(text)\n",
    "print(\"\\nGensim Word Tokenization:\", gensim_tokens)\n"
   ]
  },
  {
   "cell_type": "code",
   "execution_count": 23,
   "metadata": {},
   "outputs": [
    {
     "name": "stdout",
     "output_type": "stream",
     "text": [
      "\n",
      "Keras Tokenization: ['natural', 'language', 'processing', 'nlp', 'is', 'amazing', '🤖📚', 'it', 'helps', 'machines', 'understand', 'human', 'language', 'but', \"it's\", 'not', 'easy—negation', 'e', 'g', \"'i\", 'don’t', 'like', 'this', \"'\", 'makes', 'it', 'tricky', '😅💡']\n"
     ]
    }
   ],
   "source": [
    "from tensorflow.keras.preprocessing.text import text_to_word_sequence\n",
    "keras_tokens = text_to_word_sequence(text)\n",
    "print(\"\\nKeras Tokenization:\", keras_tokens)"
   ]
  }
 ],
 "metadata": {
  "kernelspec": {
   "display_name": "Python 3",
   "language": "python",
   "name": "python3"
  },
  "language_info": {
   "codemirror_mode": {
    "name": "ipython",
    "version": 3
   },
   "file_extension": ".py",
   "mimetype": "text/x-python",
   "name": "python",
   "nbconvert_exporter": "python",
   "pygments_lexer": "ipython3",
   "version": "3.11.0"
  }
 },
 "nbformat": 4,
 "nbformat_minor": 2
}
