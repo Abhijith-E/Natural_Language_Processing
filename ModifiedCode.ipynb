{
 "cells": [
  {
   "cell_type": "code",
   "execution_count": 8,
   "id": "d3bb47d1",
   "metadata": {},
   "outputs": [],
   "source": [
    "import tensorflow as tf\n",
    "from tensorflow.keras.models import Sequential\n",
    "from tensorflow.keras.layers import Embedding, Bidirectional, LSTM, Dense, Dropout, GlobalMaxPool1D\n",
    "from tensorflow.keras.preprocessing.text import Tokenizer\n",
    "from tensorflow.keras.preprocessing.sequence import pad_sequences\n",
    "from tensorflow.keras.regularizers import l2\n",
    "from tensorflow.keras.callbacks import EarlyStopping, LearningRateScheduler\n",
    "from sklearn.model_selection import train_test_split\n",
    "from sklearn.metrics import accuracy_score, f1_score, classification_report\n",
    "import numpy as np\n",
    "import re\n",
    "from datasets import load_dataset\n",
    "import matplotlib.pyplot as plt\n",
    "import seaborn as snspi\n",
    "import contractions"
   ]
  },
  {
   "cell_type": "code",
   "execution_count": 9,
   "id": "b0e13a15",
   "metadata": {},
   "outputs": [],
   "source": [
    "def clean_text(text):\n",
    "    # Remove HTML tags\n",
    "    text = re.sub(r'<[^>]+>', ' ', text)\n",
    "    # Fix contractions\n",
    "    text = contractions.fix(text)\n",
    "    # Remove special characters and numbers\n",
    "    text = re.sub(r'[^a-zA-Z\\s]', '', text)\n",
    "    # Convert to lowercase\n",
    "    text = text.lower()\n",
    "    # Remove extra whitespace\n",
    "    text = re.sub(r'\\s+', ' ', text).strip()\n",
    "    return text"
   ]
  },
  {
   "cell_type": "code",
   "execution_count": 10,
   "id": "88b6fd24",
   "metadata": {},
   "outputs": [
    {
     "name": "stderr",
     "output_type": "stream",
     "text": [
      "Using the latest cached version of the dataset since imdb couldn't be found on the Hugging Face Hub\n",
      "Found the latest cached dataset configuration 'plain_text' at C:\\Users\\hp\\.cache\\huggingface\\datasets\\imdb\\plain_text\\0.0.0\\e6281661ce1c48d982bc483cf8a173c1bbeb5d31 (last modified on Tue Apr  8 12:05:30 2025).\n"
     ]
    }
   ],
   "source": [
    "dataset = load_dataset(\"imdb\")\n",
    "train_data = dataset[\"train\"]\n",
    "test_data = dataset[\"test\"]\n",
    "\n",
    "# Apply advanced cleaning\n",
    "train_texts = [clean_text(example[\"text\"]) for example in train_data]\n",
    "test_texts = [clean_text(example[\"text\"]) for example in test_data]\n",
    "\n",
    "y_train = np.array([example[\"label\"] for example in train_data])\n",
    "y_test = np.array([example[\"label\"] for example in test_data])"
   ]
  },
  {
   "cell_type": "code",
   "execution_count": 11,
   "id": "e1bca816",
   "metadata": {},
   "outputs": [],
   "source": [
    "tokenizer = Tokenizer(num_words=20000, oov_token=\"<OOV>\")\n",
    "tokenizer.fit_on_texts(train_texts)\n",
    "\n",
    "# Convert texts to sequences\n",
    "train_sequences = tokenizer.texts_to_sequences(train_texts)\n",
    "test_sequences = tokenizer.texts_to_sequences(test_texts)\n",
    "\n",
    "max_length = 256  # Increased sequence length\n",
    "X_train = pad_sequences(train_sequences, maxlen=max_length, padding='post', truncating='post')\n",
    "X_test = pad_sequences(test_sequences, maxlen=max_length, padding='post', truncating='post')\n",
    "\n",
    "# Split validation set\n",
    "X_train, X_val, y_train, y_val = train_test_split(X_train, y_train, test_size=0.2, random_state=42)"
   ]
  },
  {
   "cell_type": "code",
   "execution_count": 12,
   "id": "5882f7f5",
   "metadata": {},
   "outputs": [
    {
     "name": "stderr",
     "output_type": "stream",
     "text": [
      "c:\\Users\\hp\\AppData\\Local\\Programs\\Python\\Python310\\lib\\site-packages\\keras\\src\\layers\\core\\embedding.py:90: UserWarning: Argument `input_length` is deprecated. Just remove it.\n",
      "  warnings.warn(\n"
     ]
    }
   ],
   "source": [
    "embedding_dim = 256\n",
    "model = Sequential([\n",
    "    Embedding(input_dim=20000, \n",
    "              output_dim=embedding_dim, \n",
    "              input_length=max_length),\n",
    "    Bidirectional(LSTM(128, return_sequences=True, \n",
    "                       kernel_regularizer=l2(0.001))),\n",
    "    Dropout(0.5),\n",
    "    GlobalMaxPool1D(),\n",
    "    Dense(64, activation='relu', kernel_regularizer=l2(0.001)),\n",
    "    Dropout(0.4),\n",
    "    Dense(1, activation='sigmoid')\n",
    "])\n",
    "\n",
    "optimizer = tf.keras.optimizers.Adam(learning_rate=0.0001)\n",
    "model.compile(loss='binary_crossentropy',\n",
    "              optimizer=optimizer,\n",
    "              metrics=['accuracy'])"
   ]
  },
  {
   "cell_type": "code",
   "execution_count": 13,
   "id": "6306fca1",
   "metadata": {},
   "outputs": [
    {
     "name": "stdout",
     "output_type": "stream",
     "text": [
      "Epoch 1/15\n",
      "\u001b[1m79/79\u001b[0m \u001b[32m━━━━━━━━━━━━━━━━━━━━\u001b[0m\u001b[37m\u001b[0m \u001b[1m291s\u001b[0m 4s/step - accuracy: 0.5211 - loss: 1.4323 - val_accuracy: 0.7336 - val_loss: 1.3057 - learning_rate: 1.0000e-04\n",
      "Epoch 2/15\n",
      "\u001b[1m79/79\u001b[0m \u001b[32m━━━━━━━━━━━━━━━━━━━━\u001b[0m\u001b[37m\u001b[0m \u001b[1m328s\u001b[0m 4s/step - accuracy: 0.6472 - loss: 1.2556 - val_accuracy: 0.7664 - val_loss: 1.0624 - learning_rate: 1.0000e-04\n",
      "Epoch 3/15\n",
      "\u001b[1m79/79\u001b[0m \u001b[32m━━━━━━━━━━━━━━━━━━━━\u001b[0m\u001b[37m\u001b[0m \u001b[1m291s\u001b[0m 4s/step - accuracy: 0.8116 - loss: 0.9230 - val_accuracy: 0.8234 - val_loss: 0.8759 - learning_rate: 1.0000e-04\n",
      "Epoch 4/15\n",
      "\u001b[1m79/79\u001b[0m \u001b[32m━━━━━━━━━━━━━━━━━━━━\u001b[0m\u001b[37m\u001b[0m \u001b[1m359s\u001b[0m 5s/step - accuracy: 0.8738 - loss: 0.7384 - val_accuracy: 0.8572 - val_loss: 0.7716 - learning_rate: 5.0000e-05\n",
      "Epoch 5/15\n",
      "\u001b[1m79/79\u001b[0m \u001b[32m━━━━━━━━━━━━━━━━━━━━\u001b[0m\u001b[37m\u001b[0m \u001b[1m357s\u001b[0m 5s/step - accuracy: 0.9069 - loss: 0.6316 - val_accuracy: 0.8648 - val_loss: 0.7410 - learning_rate: 2.5000e-05\n",
      "Epoch 6/15\n",
      "\u001b[1m79/79\u001b[0m \u001b[32m━━━━━━━━━━━━━━━━━━━━\u001b[0m\u001b[37m\u001b[0m \u001b[1m261s\u001b[0m 3s/step - accuracy: 0.9176 - loss: 0.5979 - val_accuracy: 0.8662 - val_loss: 0.7215 - learning_rate: 1.2500e-05\n",
      "Epoch 7/15\n",
      "\u001b[1m79/79\u001b[0m \u001b[32m━━━━━━━━━━━━━━━━━━━━\u001b[0m\u001b[37m\u001b[0m \u001b[1m268s\u001b[0m 3s/step - accuracy: 0.9252 - loss: 0.5710 - val_accuracy: 0.8684 - val_loss: 0.7121 - learning_rate: 6.2500e-06\n",
      "Epoch 8/15\n",
      "\u001b[1m79/79\u001b[0m \u001b[32m━━━━━━━━━━━━━━━━━━━━\u001b[0m\u001b[37m\u001b[0m \u001b[1m371s\u001b[0m 4s/step - accuracy: 0.9268 - loss: 0.5604 - val_accuracy: 0.8692 - val_loss: 0.7104 - learning_rate: 3.1250e-06\n",
      "Epoch 9/15\n",
      "\u001b[1m79/79\u001b[0m \u001b[32m━━━━━━━━━━━━━━━━━━━━\u001b[0m\u001b[37m\u001b[0m \u001b[1m302s\u001b[0m 4s/step - accuracy: 0.9302 - loss: 0.5539 - val_accuracy: 0.8690 - val_loss: 0.7091 - learning_rate: 1.5625e-06\n",
      "Epoch 10/15\n",
      "\u001b[1m79/79\u001b[0m \u001b[32m━━━━━━━━━━━━━━━━━━━━\u001b[0m\u001b[37m\u001b[0m \u001b[1m316s\u001b[0m 4s/step - accuracy: 0.9299 - loss: 0.5552 - val_accuracy: 0.8686 - val_loss: 0.7077 - learning_rate: 7.8125e-07\n",
      "Epoch 11/15\n",
      "\u001b[1m79/79\u001b[0m \u001b[32m━━━━━━━━━━━━━━━━━━━━\u001b[0m\u001b[37m\u001b[0m \u001b[1m262s\u001b[0m 3s/step - accuracy: 0.9315 - loss: 0.5497 - val_accuracy: 0.8684 - val_loss: 0.7073 - learning_rate: 3.9062e-07\n",
      "Epoch 12/15\n",
      "\u001b[1m79/79\u001b[0m \u001b[32m━━━━━━━━━━━━━━━━━━━━\u001b[0m\u001b[37m\u001b[0m \u001b[1m240s\u001b[0m 3s/step - accuracy: 0.9308 - loss: 0.5508 - val_accuracy: 0.8688 - val_loss: 0.7071 - learning_rate: 1.9531e-07\n",
      "Epoch 13/15\n",
      "\u001b[1m79/79\u001b[0m \u001b[32m━━━━━━━━━━━━━━━━━━━━\u001b[0m\u001b[37m\u001b[0m \u001b[1m259s\u001b[0m 3s/step - accuracy: 0.9299 - loss: 0.5542 - val_accuracy: 0.8688 - val_loss: 0.7070 - learning_rate: 9.7656e-08\n",
      "Epoch 14/15\n",
      "\u001b[1m79/79\u001b[0m \u001b[32m━━━━━━━━━━━━━━━━━━━━\u001b[0m\u001b[37m\u001b[0m \u001b[1m290s\u001b[0m 4s/step - accuracy: 0.9307 - loss: 0.5535 - val_accuracy: 0.8688 - val_loss: 0.7070 - learning_rate: 4.8828e-08\n",
      "Epoch 15/15\n",
      "\u001b[1m79/79\u001b[0m \u001b[32m━━━━━━━━━━━━━━━━━━━━\u001b[0m\u001b[37m\u001b[0m \u001b[1m237s\u001b[0m 3s/step - accuracy: 0.9290 - loss: 0.5529 - val_accuracy: 0.8688 - val_loss: 0.7070 - learning_rate: 2.4414e-08\n"
     ]
    }
   ],
   "source": [
    "early_stop = EarlyStopping(monitor='val_loss', patience=3, restore_best_weights=True)\n",
    "\n",
    "def lr_scheduler(epoch, lr):\n",
    "    if epoch > 2:\n",
    "        return lr * 0.5\n",
    "    return lr\n",
    "\n",
    "history = model.fit(\n",
    "    X_train, y_train,\n",
    "    validation_data=(X_val, y_val),\n",
    "    epochs=15,\n",
    "    batch_size=256,\n",
    "    callbacks=[early_stop, LearningRateScheduler(lr_scheduler)]\n",
    ")"
   ]
  },
  {
   "cell_type": "code",
   "execution_count": 14,
   "id": "efc38f8d",
   "metadata": {},
   "outputs": [
    {
     "name": "stdout",
     "output_type": "stream",
     "text": [
      "\u001b[1m782/782\u001b[0m \u001b[32m━━━━━━━━━━━━━━━━━━━━\u001b[0m\u001b[37m\u001b[0m \u001b[1m104s\u001b[0m 133ms/step\n",
      "Test Accuracy: 0.8503\n",
      "F1 Score: 0.8504\n",
      "\n",
      "Classification Report:\n",
      "              precision    recall  f1-score   support\n",
      "\n",
      "           0       0.85      0.85      0.85     12500\n",
      "           1       0.85      0.85      0.85     12500\n",
      "\n",
      "    accuracy                           0.85     25000\n",
      "   macro avg       0.85      0.85      0.85     25000\n",
      "weighted avg       0.85      0.85      0.85     25000\n",
      "\n"
     ]
    }
   ],
   "source": [
    "y_pred = (model.predict(X_test) > 0.5).astype(\"int32\")\n",
    "\n",
    "print(f\"Test Accuracy: {accuracy_score(y_test, y_pred):.4f}\")\n",
    "print(f\"F1 Score: {f1_score(y_test, y_pred):.4f}\")\n",
    "print(\"\\nClassification Report:\")\n",
    "print(classification_report(y_test, y_pred))"
   ]
  },
  {
   "cell_type": "code",
   "execution_count": 15,
   "id": "35e8a146",
   "metadata": {},
   "outputs": [],
   "source": [
    "def predict_sentiment(text):\n",
    "    cleaned_text = clean_text(text)\n",
    "    sequence = tokenizer.texts_to_sequences([cleaned_text])\n",
    "    padded = pad_sequences(sequence, maxlen=max_length, padding='post', truncating='post')\n",
    "    \n",
    "    prediction = model.predict(padded, verbose=0)[0][0]\n",
    "    sentiment = \"Positive\" if prediction > 0.5 else \"Negative\"\n",
    "    confidence = prediction if sentiment == \"Positive\" else 1 - prediction\n",
    "    \n",
    "    return f\"{sentiment} (Confidence: {confidence*100:.1f}%)\""
   ]
  },
  {
   "cell_type": "code",
   "execution_count": 16,
   "id": "c99fbeab",
   "metadata": {},
   "outputs": [
    {
     "name": "stdout",
     "output_type": "stream",
     "text": [
      "\n",
      "Sentiment Analysis CLI (type 'exit' to quit)\n",
      "it was a very good film and must watch awsome experience:\n",
      "Positive (Confidence: 60.0%)\n",
      "it was very bad and worst experience:\n",
      "Negative (Confidence: 56.6%)\n",
      "it was very good:\n",
      "Positive (Confidence: 57.1%)\n",
      "it was nice :\n",
      "Positive (Confidence: 55.6%)\n"
     ]
    }
   ],
   "source": [
    "# CLI Interface\n",
    "print(\"\\nSentiment Analysis CLI (type 'exit' to quit)\")\n",
    "while True:\n",
    "    text = input(\"\\nEnter text: \")\n",
    "    if text.lower() == \"exit\":\n",
    "        break\n",
    "    if len(text.strip()) == 0:\n",
    "        print(\"Error: Please enter valid text\")\n",
    "        continue\n",
    "    print(text+\":\")\n",
    "    print(predict_sentiment(text))"
   ]
  },
  {
   "cell_type": "code",
   "execution_count": null,
   "id": "199a3384",
   "metadata": {},
   "outputs": [
    {
     "name": "stdout",
     "output_type": "stream",
     "text": [
      "\n",
      "Launching Sentiment Analysis GUI...\n"
     ]
    }
   ],
   "source": [
    "import tkinter as tk\n",
    "from tkinter import ttk, messagebox\n",
    "\n",
    "def create_gui():\n",
    "    root = tk.Tk()\n",
    "    root.title(\"Sentiment Analyzer\")\n",
    "    root.geometry(\"600x400\")\n",
    "\n",
    "    style = ttk.Style()\n",
    "    style.configure('TButton', font=('Helvetica', 12))\n",
    "    style.configure('TLabel', font=('Helvetica', 14))\n",
    "\n",
    "    main_frame = ttk.Frame(root, padding=\"20\")\n",
    "    main_frame.pack(fill=tk.BOTH, expand=True)\n",
    "\n",
    "    def analyze_sentiment():\n",
    "        text = input_text.get(\"1.0\", tk.END).strip()\n",
    "        if not text:\n",
    "            messagebox.showwarning(\"Input Error\", \"Please enter some text to analyze!\")\n",
    "            return\n",
    "        \n",
    "        try:\n",
    "            result = predict_sentiment(text)\n",
    "            result_label.config(text=result, foreground='green')\n",
    "        except Exception as e:\n",
    "            messagebox.showerror(\"Error\", f\"An error occurred: {str(e)}\")\n",
    "\n",
    "    # Input Section\n",
    "    input_label = ttk.Label(main_frame, text=\"Enter your text:\")\n",
    "    input_label.pack(pady=5, anchor=tk.W)\n",
    "\n",
    "    input_text = tk.Text(main_frame, height=8, width=60, wrap=tk.WORD)\n",
    "    input_text.pack(pady=5, fill=tk.X)\n",
    "\n",
    "    # Analyze Button\n",
    "    analyze_btn = ttk.Button(main_frame, text=\"Analyze Sentiment\", command=analyze_sentiment)\n",
    "    analyze_btn.pack(pady=10)\n",
    "\n",
    "    # Result Display\n",
    "    result_label = ttk.Label(main_frame, text=\"\", wraplength=550)\n",
    "    result_label.pack(pady=10, fill=tk.X)\n",
    "\n",
    "    # Exit Button\n",
    "    exit_btn = ttk.Button(main_frame, text=\"Exit\", command=root.destroy)\n",
    "    exit_btn.pack(pady=10)\n",
    "\n",
    "    root.mainloop()\n",
    "\n",
    "# Run the GUI instead of the CLI\n",
    "print(\"\\nLaunching Sentiment Analysis GUI...\")\n",
    "create_gui()"
   ]
  }
 ],
 "metadata": {
  "kernelspec": {
   "display_name": "Python 3",
   "language": "python",
   "name": "python3"
  },
  "language_info": {
   "codemirror_mode": {
    "name": "ipython",
    "version": 3
   },
   "file_extension": ".py",
   "mimetype": "text/x-python",
   "name": "python",
   "nbconvert_exporter": "python",
   "pygments_lexer": "ipython3",
   "version": "3.10.9"
  }
 },
 "nbformat": 4,
 "nbformat_minor": 5
}
