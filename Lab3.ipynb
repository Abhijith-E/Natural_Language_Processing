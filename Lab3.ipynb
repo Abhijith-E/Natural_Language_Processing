{
  "nbformat": 4,
  "nbformat_minor": 0,
  "metadata": {
    "colab": {
      "provenance": []
    },
    "kernelspec": {
      "name": "python3",
      "display_name": "Python 3"
    },
    "language_info": {
      "name": "python"
    }
  },
  "cells": [
    {
      "cell_type": "code",
      "execution_count": null,
      "metadata": {
        "colab": {
          "base_uri": "https://localhost:8080/"
        },
        "id": "wuz6ndUjucoA",
        "outputId": "9393470e-0607-49d0-db62-e91539d1c9ab"
      },
      "outputs": [
        {
          "output_type": "stream",
          "name": "stderr",
          "text": [
            "[nltk_data] Downloading package wordnet to /root/nltk_data...\n"
          ]
        }
      ],
      "source": [
        "import numpy as np\n",
        "import pandas as pd\n",
        "import nltk\n",
        "nltk.download(\"wordnet\")\n",
        "from nltk.corpus import wordnet"
      ]
    },
    {
      "cell_type": "code",
      "source": [
        "def get_syn(word):\n",
        "  return wordnet.synsets(word)\n",
        "\n",
        "print(get_syn('bear'))\n",
        "print(get_syn('set'))\n",
        "print(get_syn('square'))\n",
        "print(get_syn('lead'))\n",
        "print(get_syn('criteria'))"
      ],
      "metadata": {
        "colab": {
          "base_uri": "https://localhost:8080/"
        },
        "id": "f7ysrn6BwLUP",
        "outputId": "d5266e13-188c-4e4d-8d0e-1155c6d32254"
      },
      "execution_count": null,
      "outputs": [
        {
          "output_type": "stream",
          "name": "stdout",
          "text": [
            "[Synset('bear.n.01'), Synset('bear.n.02'), Synset('bear.v.01'), Synset('give_birth.v.01'), Synset('digest.v.03'), Synset('bear.v.04'), Synset('bear.v.05'), Synset('bear.v.06'), Synset('hold.v.11'), Synset('yield.v.10'), Synset('wear.v.02'), Synset('behave.v.02'), Synset('bear.v.11'), Synset('hold.v.14'), Synset('have_a_bun_in_the_oven.v.01')]\n",
            "[Synset('set.n.01'), Synset('set.n.02'), Synset('set.n.03'), Synset('stage_set.n.01'), Synset('set.n.05'), Synset('bent.n.01'), Synset('set.n.07'), Synset('set.n.08'), Synset('hardening.n.02'), Synset('set.n.10'), Synset('set.n.11'), Synset('set.n.12'), Synset('set.n.13'), Synset('put.v.01'), Synset('determine.v.03'), Synset('specify.v.02'), Synset('set.v.04'), Synset('set.v.05'), Synset('set.v.06'), Synset('fix.v.12'), Synset('set.v.08'), Synset('set.v.09'), Synset('set.v.10'), Synset('arrange.v.06'), Synset('plant.v.01'), Synset('set.v.13'), Synset('jell.v.01'), Synset('typeset.v.01'), Synset('set.v.16'), Synset('set.v.17'), Synset('set.v.18'), Synset('sic.v.01'), Synset('place.v.11'), Synset('rig.v.04'), Synset('set_up.v.04'), Synset('adjust.v.01'), Synset('fructify.v.03'), Synset('dress.v.16'), Synset('fit.s.02'), Synset('fixed.s.02'), Synset('located.s.01'), Synset('laid.s.01'), Synset('set.s.05'), Synset('determined.s.04'), Synset('hardened.s.05')]\n",
            "[Synset('square.n.01'), Synset('square.n.02'), Synset('public_square.n.01'), Synset('square.n.04'), Synset('square.n.05'), Synset('square.n.06'), Synset('square.n.07'), Synset('square.n.08'), Synset('square.v.01'), Synset('square.v.02'), Synset('square.v.03'), Synset('square.v.04'), Synset('square.v.05'), Synset('square.v.06'), Synset('feather.v.03'), Synset('feather.v.04'), Synset('square.a.01'), Synset('straight.a.06'), Synset('hearty.s.02'), Synset('square.s.04'), Synset('square.s.05'), Synset('square.s.06'), Synset('squarely.r.02'), Synset('squarely.r.04'), Synset('squarely.r.03')]\n",
            "[Synset('lead.n.01'), Synset('lead.n.02'), Synset('lead.n.03'), Synset('lead.n.04'), Synset('lead.n.05'), Synset('lead.n.06'), Synset('lead.n.07'), Synset('star.n.04'), Synset('lead.n.09'), Synset('tip.n.03'), Synset('lead.n.11'), Synset('spark_advance.n.01'), Synset('leash.n.01'), Synset('lead.n.14'), Synset('lead.n.15'), Synset('jumper_cable.n.01'), Synset('lead.n.17'), Synset('lead.v.01'), Synset('leave.v.07'), Synset('lead.v.03'), Synset('lead.v.04'), Synset('lead.v.05'), Synset('run.v.03'), Synset('head.v.02'), Synset('lead.v.08'), Synset('contribute.v.03'), Synset('conduct.v.02'), Synset('go.v.25'), Synset('precede.v.04'), Synset('run.v.23'), Synset('moderate.v.01')]\n",
            "[Synset('standard.n.01'), Synset('criterion.n.02')]\n"
          ]
        }
      ]
    },
    {
      "cell_type": "code",
      "source": [
        "def get_3rd(word):\n",
        "  l = get_syn(word)\n",
        "  if len(l) > 2:\n",
        "    return l[2].definition()\n",
        "  else:\n",
        "    return \"NA\"\n",
        "print(get_3rd('bear'))\n",
        "print(get_3rd('set'))\n",
        "print(get_3rd('square'))\n",
        "print(get_3rd('lead'))\n",
        "print(get_3rd('criteria'))"
      ],
      "metadata": {
        "colab": {
          "base_uri": "https://localhost:8080/"
        },
        "id": "UhQ2tagOwLV5",
        "outputId": "4cb8ced0-567b-4170-ece9-2dc86b9e3cd9"
      },
      "execution_count": null,
      "outputs": [
        {
          "output_type": "stream",
          "name": "stdout",
          "text": [
            "have\n",
            "several exercises intended to be done in series\n",
            "an open area at the meeting of two or more streets\n",
            "evidence pointing to a possible solution\n",
            "NA\n"
          ]
        }
      ]
    },
    {
      "cell_type": "code",
      "source": [
        "def get_nouns(word):\n",
        "  l = get_syn(word)\n",
        "  nouns = []\n",
        "  for word in l:\n",
        "    if word.pos() == 'n':\n",
        "      nouns.append(word)\n",
        "  return nouns\n",
        "print(get_nouns('bear'))\n",
        "print(get_nouns('set'))\n",
        "print(get_nouns('square'))\n",
        "print(get_nouns('lead'))"
      ],
      "metadata": {
        "colab": {
          "base_uri": "https://localhost:8080/"
        },
        "id": "pkCPU3JCwLYp",
        "outputId": "597f06a0-147a-4c14-ef30-c60b6637a2ce"
      },
      "execution_count": null,
      "outputs": [
        {
          "output_type": "stream",
          "name": "stdout",
          "text": [
            "[Synset('bear.n.01'), Synset('bear.n.02')]\n",
            "[Synset('set.n.01'), Synset('set.n.02'), Synset('set.n.03'), Synset('stage_set.n.01'), Synset('set.n.05'), Synset('bent.n.01'), Synset('set.n.07'), Synset('set.n.08'), Synset('hardening.n.02'), Synset('set.n.10'), Synset('set.n.11'), Synset('set.n.12'), Synset('set.n.13')]\n",
            "[Synset('square.n.01'), Synset('square.n.02'), Synset('public_square.n.01'), Synset('square.n.04'), Synset('square.n.05'), Synset('square.n.06'), Synset('square.n.07'), Synset('square.n.08')]\n",
            "[Synset('lead.n.01'), Synset('lead.n.02'), Synset('lead.n.03'), Synset('lead.n.04'), Synset('lead.n.05'), Synset('lead.n.06'), Synset('lead.n.07'), Synset('star.n.04'), Synset('lead.n.09'), Synset('tip.n.03'), Synset('lead.n.11'), Synset('spark_advance.n.01'), Synset('leash.n.01'), Synset('lead.n.14'), Synset('lead.n.15'), Synset('jumper_cable.n.01'), Synset('lead.n.17')]\n"
          ]
        }
      ]
    },
    {
      "cell_type": "code",
      "source": [
        "def get_verbs(word):\n",
        "  l = get_syn(word)\n",
        "  verbs = []\n",
        "  for word in l:\n",
        "    if word.pos() == 'v':\n",
        "      verbs.append(word)\n",
        "  return verbs\n",
        "print(get_verbs('bear'))\n",
        "print(get_verbs('set'))\n",
        "print(get_verbs('square'))\n",
        "print(get_verbs('lead'))"
      ],
      "metadata": {
        "colab": {
          "base_uri": "https://localhost:8080/"
        },
        "id": "1OKxy65pwLaY",
        "outputId": "036cc0a1-778c-465b-dc07-cfc96d2cd6de"
      },
      "execution_count": null,
      "outputs": [
        {
          "output_type": "stream",
          "name": "stdout",
          "text": [
            "[Synset('bear.v.01'), Synset('give_birth.v.01'), Synset('digest.v.03'), Synset('bear.v.04'), Synset('bear.v.05'), Synset('bear.v.06'), Synset('hold.v.11'), Synset('yield.v.10'), Synset('wear.v.02'), Synset('behave.v.02'), Synset('bear.v.11'), Synset('hold.v.14'), Synset('have_a_bun_in_the_oven.v.01')]\n",
            "[Synset('put.v.01'), Synset('determine.v.03'), Synset('specify.v.02'), Synset('set.v.04'), Synset('set.v.05'), Synset('set.v.06'), Synset('fix.v.12'), Synset('set.v.08'), Synset('set.v.09'), Synset('set.v.10'), Synset('arrange.v.06'), Synset('plant.v.01'), Synset('set.v.13'), Synset('jell.v.01'), Synset('typeset.v.01'), Synset('set.v.16'), Synset('set.v.17'), Synset('set.v.18'), Synset('sic.v.01'), Synset('place.v.11'), Synset('rig.v.04'), Synset('set_up.v.04'), Synset('adjust.v.01'), Synset('fructify.v.03'), Synset('dress.v.16')]\n",
            "[Synset('square.v.01'), Synset('square.v.02'), Synset('square.v.03'), Synset('square.v.04'), Synset('square.v.05'), Synset('square.v.06'), Synset('feather.v.03'), Synset('feather.v.04')]\n",
            "[Synset('lead.v.01'), Synset('leave.v.07'), Synset('lead.v.03'), Synset('lead.v.04'), Synset('lead.v.05'), Synset('run.v.03'), Synset('head.v.02'), Synset('lead.v.08'), Synset('contribute.v.03'), Synset('conduct.v.02'), Synset('go.v.25'), Synset('precede.v.04'), Synset('run.v.23'), Synset('moderate.v.01')]\n"
          ]
        }
      ]
    },
    {
      "cell_type": "code",
      "source": [
        "def get_adv(word):\n",
        "  l = get_syn(word)\n",
        "  adv = []\n",
        "  for word in l:\n",
        "    if word.pos() == 'r':\n",
        "      adv.append(word)\n",
        "  return adv\n",
        "print(get_adv('bear'))\n",
        "print(get_adv('set'))\n",
        "print(get_adv('square'))"
      ],
      "metadata": {
        "colab": {
          "base_uri": "https://localhost:8080/"
        },
        "id": "QazVyRH6wLdF",
        "outputId": "393c5d04-d802-4a2e-defc-48a1da3d2559"
      },
      "execution_count": null,
      "outputs": [
        {
          "output_type": "stream",
          "name": "stdout",
          "text": [
            "[]\n",
            "[]\n",
            "[Synset('squarely.r.02'), Synset('squarely.r.04'), Synset('squarely.r.03')]\n"
          ]
        }
      ]
    },
    {
      "cell_type": "code",
      "source": [
        "def get_adj(word):\n",
        "  l = get_syn(word)\n",
        "  adj = []\n",
        "  for word in l:\n",
        "    if word.pos() == 'a':\n",
        "      adj.append(word)\n",
        "  return adj\n",
        "print(get_adj('bear'))\n",
        "print(get_adj('set'))\n",
        "print(get_adj('square'))"
      ],
      "metadata": {
        "colab": {
          "base_uri": "https://localhost:8080/"
        },
        "id": "WZ-a8q8ZwthM",
        "outputId": "772a08ca-8f9e-4615-8a30-60a817577ecb"
      },
      "execution_count": null,
      "outputs": [
        {
          "output_type": "stream",
          "name": "stdout",
          "text": [
            "[]\n",
            "[]\n",
            "[Synset('square.a.01'), Synset('straight.a.06')]\n"
          ]
        }
      ]
    },
    {
      "cell_type": "code",
      "source": [
        "def get_def(word):\n",
        "  return wordnet.synsets(word)[0].definition()\n",
        "print(get_def('bear'))\n",
        "print(get_def('set'))\n",
        "print(get_def('square'))\n",
        "print(get_def('lead'))\n",
        "print(get_def('criteria'))"
      ],
      "metadata": {
        "colab": {
          "base_uri": "https://localhost:8080/"
        },
        "id": "l6ogjAs9wzZW",
        "outputId": "3a2636cf-9bca-45bb-92c1-0f1e7ef0729d"
      },
      "execution_count": null,
      "outputs": [
        {
          "output_type": "stream",
          "name": "stdout",
          "text": [
            "massive plantigrade carnivorous or omnivorous mammals with long shaggy coats and strong claws\n",
            "a group of things of the same kind that belong together and are so used\n",
            "(geometry) a plane rectangle with four equal sides and four right angles; a four-sided regular polygon\n",
            "an advantage held by a competitor in a race\n",
            "a basis for comparison; a reference point against which other things can be evaluated\n"
          ]
        }
      ]
    },
    {
      "cell_type": "code",
      "source": [
        "def get_antonyms(word):\n",
        "    antonyms = []\n",
        "    for synset in wordnet.synsets(word):\n",
        "        for lemma in synset.lemmas():\n",
        "            if lemma.antonyms():\n",
        "                antonyms.extend([ant.name() for ant in lemma.antonyms()])\n",
        "    return set(antonyms)\n",
        "\n",
        "get_antonyms(\"good\")"
      ],
      "metadata": {
        "colab": {
          "base_uri": "https://localhost:8080/"
        },
        "id": "tBcT91f4wza9",
        "outputId": "2e8c6ce3-730c-41fa-f0f8-8ce3e13b678d"
      },
      "execution_count": null,
      "outputs": [
        {
          "output_type": "execute_result",
          "data": {
            "text/plain": [
              "{'bad', 'badness', 'evil', 'evilness', 'ill'}"
            ]
          },
          "metadata": {},
          "execution_count": 9
        }
      ]
    },
    {
      "cell_type": "code",
      "source": [
        "from nltk.stem import WordNetLemmatizer\n",
        "lemmatizer = WordNetLemmatizer()\n",
        "\n",
        "def lemmatize_word(word, pos='n'):\n",
        "    return lemmatizer.lemmatize(word, pos)\n",
        "\n",
        "# Function to perform stemming using different stemmers\n",
        "from nltk.stem import PorterStemmer, LancasterStemmer, SnowballStemmer\n",
        "porter = PorterStemmer()\n",
        "lancaster = LancasterStemmer()\n",
        "snowball = SnowballStemmer(\"english\")\n",
        "\n",
        "\n",
        "def compare_stemming_lemmatization(word):\n",
        "    print(f\"\\nWord: {word}\")\n",
        "    print(f\"Porter Stemmer: {porter.stem(word)}\")\n",
        "    print(f\"Lancaster Stemmer: {lancaster.stem(word)}\")\n",
        "    print(f\"Snowball Stemmer: {snowball.stem(word)}\")\n",
        "    print(f\"Lemmatizer (Noun): {lemmatize_word(word, 'n')}\")\n",
        "    print(f\"Lemmatizer (Verb): {lemmatize_word(word, 'v')}\")\n",
        "\n",
        "compare_stemming_lemmatization(\"drilling\")"
      ],
      "metadata": {
        "colab": {
          "base_uri": "https://localhost:8080/"
        },
        "id": "8YMJD67Nwzeh",
        "outputId": "add1987a-15bc-446f-8723-c66a1a52078d"
      },
      "execution_count": null,
      "outputs": [
        {
          "output_type": "stream",
          "name": "stdout",
          "text": [
            "\n",
            "Word: drilling\n",
            "Porter Stemmer: drill\n",
            "Lancaster Stemmer: dril\n",
            "Snowball Stemmer: drill\n",
            "Lemmatizer (Noun): drilling\n",
            "Lemmatizer (Verb): drill\n"
          ]
        }
      ]
    },
    {
      "cell_type": "code",
      "source": [
        "print(\"stemming : \", porter.stem(\"happiness\"))\n",
        "print(\"lemmatization : \", lemmatize_word(\"happiness\"))"
      ],
      "metadata": {
        "colab": {
          "base_uri": "https://localhost:8080/"
        },
        "id": "sx9OpMzNxPQ7",
        "outputId": "cd881365-3da0-467f-fc34-3704cea3248a"
      },
      "execution_count": null,
      "outputs": [
        {
          "output_type": "stream",
          "name": "stdout",
          "text": [
            "stemming :  happi\n",
            "lemmatization :  happiness\n"
          ]
        }
      ]
    },
    {
      "cell_type": "code",
      "source": [
        "from nltk import word_tokenize, pos_tag\n",
        "nltk.download('punkt_tab')\n",
        "nltk.download('averaged_perceptron_tagger_eng')"
      ],
      "metadata": {
        "colab": {
          "base_uri": "https://localhost:8080/"
        },
        "id": "QwO1dGyjxkXq",
        "outputId": "0f7023aa-6a3b-4dee-e329-f8d11e0b2283"
      },
      "execution_count": null,
      "outputs": [
        {
          "output_type": "stream",
          "name": "stderr",
          "text": [
            "[nltk_data] Downloading package punkt_tab to /root/nltk_data...\n",
            "[nltk_data]   Unzipping tokenizers/punkt_tab.zip.\n",
            "[nltk_data] Downloading package averaged_perceptron_tagger_eng to\n",
            "[nltk_data]     /root/nltk_data...\n",
            "[nltk_data]   Unzipping taggers/averaged_perceptron_tagger_eng.zip.\n"
          ]
        },
        {
          "output_type": "execute_result",
          "data": {
            "text/plain": [
              "True"
            ]
          },
          "metadata": {},
          "execution_count": 12
        }
      ]
    },
    {
      "cell_type": "code",
      "source": [
        "sentence = \"Julia is literally better than everyone, she is superior, trustable and the most dependable person ever.\"\n",
        "tokens = word_tokenize(sentence)\n",
        "pos = pos_tag(tokens)\n",
        "print(pos)"
      ],
      "metadata": {
        "colab": {
          "base_uri": "https://localhost:8080/"
        },
        "id": "tJpBWUr-xpnL",
        "outputId": "4c9344dc-297d-4f36-e73a-053b74b2be49"
      },
      "execution_count": null,
      "outputs": [
        {
          "output_type": "stream",
          "name": "stdout",
          "text": [
            "[('Julia', 'NNP'), ('is', 'VBZ'), ('literally', 'RB'), ('better', 'JJR'), ('than', 'IN'), ('everyone', 'NN'), (',', ','), ('she', 'PRP'), ('is', 'VBZ'), ('superior', 'JJ'), (',', ','), ('trustable', 'JJ'), ('and', 'CC'), ('the', 'DT'), ('most', 'RBS'), ('dependable', 'JJ'), ('person', 'NN'), ('ever', 'RB'), ('.', '.')]\n"
          ]
        }
      ]
    },
    {
      "cell_type": "code",
      "source": [
        "import spacy\n",
        "nlp = spacy.load(\"en_core_web_sm\")"
      ],
      "metadata": {
        "colab": {
          "base_uri": "https://localhost:8080/"
        },
        "id": "wCxEOYDPyPrP",
        "outputId": "bff13917-d4f5-4ea3-a20c-549345a505b1"
      },
      "execution_count": null,
      "outputs": [
        {
          "output_type": "stream",
          "name": "stderr",
          "text": [
            "/usr/local/lib/python3.11/dist-packages/spacy/util.py:1740: UserWarning: [W111] Jupyter notebook detected: if using `prefer_gpu()` or `require_gpu()`, include it in the same cell right before `spacy.load()` to ensure that the model is loaded on the correct device. More information: http://spacy.io/usage/v3#jupyter-notebook-gpu\n",
            "  warnings.warn(Warnings.W111)\n"
          ]
        }
      ]
    },
    {
      "cell_type": "code",
      "source": [
        "doc = nlp(sentence)\n",
        "for ent in doc.ents:\n",
        " print(ent.text, ent.label_)"
      ],
      "metadata": {
        "colab": {
          "base_uri": "https://localhost:8080/"
        },
        "id": "0VuuRLMXycjc",
        "outputId": "9126836d-45b0-4e6b-a701-89087be8fe0c"
      },
      "execution_count": null,
      "outputs": [
        {
          "output_type": "stream",
          "name": "stdout",
          "text": [
            "Julia ORG\n"
          ]
        }
      ]
    },
    {
      "cell_type": "code",
      "source": [
        "for token in doc:\n",
        "  print(token.text, token.dep_, token.head.text)"
      ],
      "metadata": {
        "colab": {
          "base_uri": "https://localhost:8080/"
        },
        "id": "Qb3jYJ3Vy2_8",
        "outputId": "6298cc2f-a55d-4661-ea21-878069d81b17"
      },
      "execution_count": null,
      "outputs": [
        {
          "output_type": "stream",
          "name": "stdout",
          "text": [
            "Julia nsubj is\n",
            "is ccomp is\n",
            "literally advmod better\n",
            "better acomp is\n",
            "than prep better\n",
            "everyone pobj than\n",
            ", punct is\n",
            "she nsubj is\n",
            "is ROOT is\n",
            "superior acomp is\n",
            ", punct superior\n",
            "trustable conj superior\n",
            "and cc trustable\n",
            "the det person\n",
            "most advmod dependable\n",
            "dependable amod person\n",
            "person attr is\n",
            "ever advmod person\n",
            ". punct is\n"
          ]
        }
      ]
    }
  ]
}