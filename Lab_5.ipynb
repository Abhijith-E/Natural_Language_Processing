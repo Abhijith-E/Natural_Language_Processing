{
 "cells": [
  {
   "cell_type": "markdown",
   "metadata": {},
   "source": [
    "Document Similarity Using Similarity Measures Cosine and Jaccard Similarity"
   ]
  },
  {
   "cell_type": "code",
   "execution_count": 1,
   "metadata": {},
   "outputs": [],
   "source": [
    "from sklearn.feature_extraction.text import TfidfVectorizer\n",
    "from sklearn.metrics.pairwise import cosine_similarity"
   ]
  },
  {
   "cell_type": "code",
   "execution_count": 2,
   "metadata": {},
   "outputs": [],
   "source": [
    "doc1 = \"Natural language processing enables computers to understand human language.\"\n",
    "doc2 = \"Machine learning algorithms help computers learn from data automatically.\""
   ]
  },
  {
   "cell_type": "code",
   "execution_count": 5,
   "metadata": {},
   "outputs": [],
   "source": [
    "vectorizer = TfidfVectorizer()\n",
    "tfidf_matrix = vectorizer.fit_transform([doc1,doc2])\n",
    "cos_sim = cosine_similarity(tfidf_matrix[0],tfidf_matrix[1])[0][0]"
   ]
  },
  {
   "cell_type": "code",
   "execution_count": 7,
   "metadata": {},
   "outputs": [],
   "source": [
    "def jaccard_similarity(a,b):\n",
    "    set1 = set(a.split())\n",
    "    set2 = set(b.split())\n",
    "    intersection = len(set1.intersection(set2))\n",
    "    union = len(set1)+len(set2)-intersection\n",
    "    return intersection/union\n",
    "jac_sim = jaccard_similarity(doc1,doc2)"
   ]
  },
  {
   "cell_type": "code",
   "execution_count": 9,
   "metadata": {},
   "outputs": [
    {
     "name": "stdout",
     "output_type": "stream",
     "text": [
      "Cosine Similariry : 0.0536\n",
      "Jaccard Similarity : 0.0588\n"
     ]
    }
   ],
   "source": [
    "print(f\"Cosine Similariry : {cos_sim :.4f}\")\n",
    "print(f\"Jaccard Similarity : {jac_sim :.4f}\")"
   ]
  }
 ],
 "metadata": {
  "kernelspec": {
   "display_name": "Python 3",
   "language": "python",
   "name": "python3"
  },
  "language_info": {
   "codemirror_mode": {
    "name": "ipython",
    "version": 3
   },
   "file_extension": ".py",
   "mimetype": "text/x-python",
   "name": "python",
   "nbconvert_exporter": "python",
   "pygments_lexer": "ipython3",
   "version": "3.11.0"
  }
 },
 "nbformat": 4,
 "nbformat_minor": 2
}
