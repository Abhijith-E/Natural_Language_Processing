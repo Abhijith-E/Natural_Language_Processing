{
 "cells": [
  {
   "cell_type": "code",
   "execution_count": 1,
   "id": "a8aeee60",
   "metadata": {},
   "outputs": [],
   "source": [
    "import tensorflow as tf\n",
    "from tensorflow.keras.preprocessing.text import Tokenizer\n",
    "from tensorflow.keras.preprocessing.sequence import pad_sequences\n",
    "from tensorflow.keras.models import Sequential\n",
    "from tensorflow.keras.layers import Embedding, LSTM, Dense, Dropout\n",
    "from sklearn.model_selection import train_test_split\n",
    "from sklearn.metrics import accuracy_score, f1_score, confusion_matrix\n",
    "import matplotlib.pyplot as plt\n",
    "import seaborn as sns\n",
    "from datasets import load_dataset\n",
    "import numpy as np"
   ]
  },
  {
   "cell_type": "markdown",
   "id": "d82c9b24",
   "metadata": {},
   "source": [
    "1. Dataset Selection & EDA"
   ]
  },
  {
   "cell_type": "code",
   "execution_count": 2,
   "id": "3032adef",
   "metadata": {},
   "outputs": [
    {
     "name": "stderr",
     "output_type": "stream",
     "text": [
      "Using the latest cached version of the dataset since imdb couldn't be found on the Hugging Face Hub\n",
      "Found the latest cached dataset configuration 'plain_text' at C:\\Users\\hp\\.cache\\huggingface\\datasets\\imdb\\plain_text\\0.0.0\\e6281661ce1c48d982bc483cf8a173c1bbeb5d31 (last modified on Tue Apr  8 12:05:30 2025).\n"
     ]
    },
    {
     "name": "stdout",
     "output_type": "stream",
     "text": [
      "Training samples: 25000\n",
      "Test samples: 25000\n"
     ]
    }
   ],
   "source": [
    "# Load IMDB dataset from Hugging Face\n",
    "dataset = load_dataset(\"imdb\")\n",
    "train_data = dataset[\"train\"]\n",
    "test_data = dataset[\"test\"]\n",
    "\n",
    "print(f\"Training samples: {len(train_data)}\")\n",
    "print(f\"Test samples: {len(test_data)}\")"
   ]
  },
  {
   "cell_type": "code",
   "execution_count": 3,
   "id": "fc24badd",
   "metadata": {},
   "outputs": [
    {
     "name": "stdout",
     "output_type": "stream",
     "text": [
      "\n",
      "Class distribution: [12500 12500]\n"
     ]
    }
   ],
   "source": [
    "# Basic EDA\n",
    "# Class distribution\n",
    "labels = [example[\"label\"] for example in train_data]\n",
    "print(f\"\\nClass distribution: {np.bincount(labels)}\")"
   ]
  },
  {
   "cell_type": "code",
   "execution_count": 4,
   "id": "7378dd1e",
   "metadata": {},
   "outputs": [
    {
     "name": "stdout",
     "output_type": "stream",
     "text": [
      "Average text length: 233.79 words\n",
      "Max text length: 2470 words\n"
     ]
    }
   ],
   "source": [
    "# Text length analysis\n",
    "text_lengths = [len(example[\"text\"].split()) for example in train_data]\n",
    "print(f\"Average text length: {np.mean(text_lengths):.2f} words\")\n",
    "print(f\"Max text length: {np.max(text_lengths)} words\")"
   ]
  },
  {
   "cell_type": "code",
   "execution_count": 5,
   "id": "b1a0d965",
   "metadata": {},
   "outputs": [
    {
     "data": {
      "image/png": "[encoded data removed]",
      "text/plain": [
       "<Figure size 1200x400 with 2 Axes>"
      ]
     },
     "metadata": {},
     "output_type": "display_data"
    }
   ],
   "source": [
    "# Visualization\n",
    "plt.figure(figsize=(12, 4))\n",
    "plt.subplot(1, 2, 1)\n",
    "sns.countplot(x=labels)\n",
    "plt.title(\"Class Distribution\")\n",
    "\n",
    "plt.subplot(1, 2, 2)\n",
    "sns.histplot(text_lengths, bins=50)\n",
    "plt.title(\"Text Length Distribution\")\n",
    "plt.show()"
   ]
  },
  {
   "cell_type": "markdown",
   "id": "bb3a58e8",
   "metadata": {},
   "source": [
    "2. Model Implementation"
   ]
  },
  {
   "cell_type": "code",
   "execution_count": 6,
   "id": "4c69ffdd",
   "metadata": {},
   "outputs": [],
   "source": [
    "# Preprocessing\n",
    "tokenizer = Tokenizer(num_words=10000)\n",
    "tokenizer.fit_on_texts([example[\"text\"] for example in train_data])"
   ]
  },
  {
   "cell_type": "code",
   "execution_count": 7,
   "id": "a4c4c2fd",
   "metadata": {},
   "outputs": [],
   "source": [
    "# Convert text to sequences\n",
    "X_train = tokenizer.texts_to_sequences([example[\"text\"] for example in train_data])\n",
    "X_test = tokenizer.texts_to_sequences([example[\"text\"] for example in test_data])"
   ]
  },
  {
   "cell_type": "code",
   "execution_count": 8,
   "id": "cf78b5c5",
   "metadata": {},
   "outputs": [],
   "source": [
    "# Pad sequences\n",
    "max_length = 200  # Based on EDA\n",
    "X_train = pad_sequences(X_train, maxlen=max_length)\n",
    "X_test = pad_sequences(X_test, maxlen=max_length)\n",
    "\n",
    "y_train = np.array([example[\"label\"] for example in train_data])\n",
    "y_test = np.array([example[\"label\"] for example in test_data])"
   ]
  },
  {
   "cell_type": "code",
   "execution_count": 9,
   "id": "082aa8b9",
   "metadata": {},
   "outputs": [],
   "source": [
    "# Split validation set\n",
    "X_train, X_val, y_train, y_val = train_test_split(X_train, y_train, test_size=0.2)"
   ]
  },
  {
   "cell_type": "code",
   "execution_count": 10,
   "id": "167ef92a",
   "metadata": {},
   "outputs": [
    {
     "name": "stderr",
     "output_type": "stream",
     "text": [
      "C:\\Users\\hp\\AppData\\Roaming\\Python\\Python312\\site-packages\\keras\\src\\layers\\core\\embedding.py:90: UserWarning: Argument `input_length` is deprecated. Just remove it.\n",
      "  warnings.warn(\n"
     ]
    }
   ],
   "source": [
    "# Model architecture\n",
    "model = Sequential()\n",
    "model.add(Embedding(10000, 128, input_length=max_length))\n",
    "model.add(LSTM(64, return_sequences=True))\n",
    "model.add(Dropout(0.2))\n",
    "model.add(LSTM(32))\n",
    "model.add(Dense(1, activation=\"sigmoid\"))\n",
    "\n",
    "model.compile(\n",
    "    optimizer=\"adam\",\n",
    "    loss=\"binary_crossentropy\",\n",
    "    metrics=[\"accuracy\"]\n",
    ")"
   ]
  },
  {
   "cell_type": "code",
   "execution_count": 11,
   "id": "bc9a955b",
   "metadata": {},
   "outputs": [
    {
     "name": "stdout",
     "output_type": "stream",
     "text": [
      "Epoch 1/5\n",
      "\u001b[1m157/157\u001b[0m \u001b[32m━━━━━━━━━━━━━━━━━━━━\u001b[0m\u001b[37m\u001b[0m \u001b[1m63s\u001b[0m 366ms/step - accuracy: 0.6947 - loss: 0.5469 - val_accuracy: 0.8428 - val_loss: 0.3704\n",
      "Epoch 2/5\n",
      "\u001b[1m157/157\u001b[0m \u001b[32m━━━━━━━━━━━━━━━━━━━━\u001b[0m\u001b[37m\u001b[0m \u001b[1m96s\u001b[0m 614ms/step - accuracy: 0.9079 - loss: 0.2426 - val_accuracy: 0.8636 - val_loss: 0.3425\n",
      "Epoch 3/5\n",
      "\u001b[1m157/157\u001b[0m \u001b[32m━━━━━━━━━━━━━━━━━━━━\u001b[0m\u001b[37m\u001b[0m \u001b[1m86s\u001b[0m 548ms/step - accuracy: 0.9406 - loss: 0.1641 - val_accuracy: 0.8626 - val_loss: 0.3519\n",
      "Epoch 4/5\n",
      "\u001b[1m157/157\u001b[0m \u001b[32m━━━━━━━━━━━━━━━━━━━━\u001b[0m\u001b[37m\u001b[0m \u001b[1m77s\u001b[0m 494ms/step - accuracy: 0.9610 - loss: 0.1114 - val_accuracy: 0.8692 - val_loss: 0.3726\n",
      "Epoch 5/5\n",
      "\u001b[1m157/157\u001b[0m \u001b[32m━━━━━━━━━━━━━━━━━━━━\u001b[0m\u001b[37m\u001b[0m \u001b[1m77s\u001b[0m 492ms/step - accuracy: 0.9778 - loss: 0.0748 - val_accuracy: 0.8410 - val_loss: 0.4238\n"
     ]
    }
   ],
   "source": [
    "# Training\n",
    "history = model.fit(\n",
    "    X_train, y_train,\n",
    "    validation_data=(X_val, y_val),\n",
    "    epochs=5,\n",
    "    batch_size=128\n",
    ")"
   ]
  },
  {
   "cell_type": "markdown",
   "id": "87e20fc6",
   "metadata": {},
   "source": [
    "3. Evaluation"
   ]
  },
  {
   "cell_type": "code",
   "execution_count": 12,
   "id": "4d30a939",
   "metadata": {},
   "outputs": [
    {
     "name": "stdout",
     "output_type": "stream",
     "text": [
      "\u001b[1m782/782\u001b[0m \u001b[32m━━━━━━━━━━━━━━━━━━━━\u001b[0m\u001b[37m\u001b[0m \u001b[1m34s\u001b[0m 43ms/step\n",
      "\n",
      "Test Accuracy: 0.8503\n",
      "F1 Score: 0.8507\n"
     ]
    },
    {
     "data": {
      "image/png": "[encoded data removed]",
      "text/plain": [
       "<Figure size 640x480 with 2 Axes>"
      ]
     },
     "metadata": {},
     "output_type": "display_data"
    }
   ],
   "source": [
    "# Predictions\n",
    "y_pred = (model.predict(X_test) > 0.5).astype(\"int32\")\n",
    "\n",
    "# Metrics\n",
    "print(f\"\\nTest Accuracy: {accuracy_score(y_test, y_pred):.4f}\")\n",
    "print(f\"F1 Score: {f1_score(y_test, y_pred):.4f}\")\n",
    "\n",
    "# Confusion Matrix\n",
    "cm = confusion_matrix(y_test, y_pred)\n",
    "sns.heatmap(cm, annot=True, fmt=\"d\", cmap=\"Blues\")\n",
    "plt.xlabel(\"Predicted\")\n",
    "plt.ylabel(\"Actual\")\n",
    "plt.title(\"Confusion Matrix\")\n",
    "plt.show()"
   ]
  },
  {
   "cell_type": "markdown",
   "id": "0031b918",
   "metadata": {},
   "source": [
    "4. Deployment"
   ]
  },
  {
   "cell_type": "code",
   "execution_count": 13,
   "id": "49a13594",
   "metadata": {},
   "outputs": [],
   "source": [
    "def predict_sentiment(text):\n",
    "    # Preprocess input\n",
    "    sequence = tokenizer.texts_to_sequences([text])\n",
    "    padded = pad_sequences(sequence, maxlen=max_length)\n",
    "    \n",
    "    # Predict\n",
    "    prediction = model.predict(padded, verbose=0)[0][0]\n",
    "    sentiment = \"Positive\" if prediction > 0.5 else \"Negative\"\n",
    "    confidence = prediction if sentiment == \"Positive\" else 1 - prediction\n",
    "    \n",
    "    return f\"{sentiment} sentiment ({confidence:.2f} confidence)\""
   ]
  },
  {
   "cell_type": "code",
   "execution_count": null,
   "id": "3b59a10b",
   "metadata": {},
   "outputs": [
    {
     "name": "stdout",
     "output_type": "stream",
     "text": [
      "\n",
      "Sentiment Analysis CLI (type 'exit' to quit)\n",
      "Error: Please enter valid text\n",
      "Positive sentiment (0.75 confidence)\n",
      "Negative sentiment (0.51 confidence)\n",
      "Positive sentiment (0.82 confidence)\n",
      "Positive sentiment (0.79 confidence)\n",
      "Positive sentiment (0.79 confidence)\n",
      "Positive sentiment (0.63 confidence)\n",
      "Positive sentiment (0.57 confidence)\n",
      "Negative sentiment (0.81 confidence)\n",
      "Positive sentiment (0.79 confidence)\n",
      "Positive sentiment (0.75 confidence)\n",
      "Positive sentiment (0.71 confidence)\n",
      "Positive sentiment (0.61 confidence)\n",
      "Positive sentiment (0.65 confidence)\n",
      "Error: Please enter valid text\n",
      "Error: Please enter valid text\n",
      "Error: Please enter valid text\n",
      "Error: Please enter valid text\n",
      "Error: Please enter valid text\n",
      "Error: Please enter valid text\n",
      "Error: Please enter valid text\n",
      "Error: Please enter valid text\n",
      "Error: Please enter valid text\n",
      "Error: Please enter valid text\n",
      "Error: Please enter valid text\n",
      "Error: Please enter valid text\n",
      "Error: Please enter valid text\n",
      "Error: Please enter valid text\n",
      "Error: Please enter valid text\n",
      "Error: Please enter valid text\n",
      "Error: Please enter valid text\n",
      "Error: Please enter valid text\n",
      "Error: Please enter valid text\n",
      "Error: Please enter valid text\n"
     ]
    }
   ],
   "source": [
    "# CLI Interface\n",
    "print(\"\\nSentiment Analysis CLI (type 'exit' to quit)\")\n",
    "while True:\n",
    "    text = input(\"\\nEnter text: \")\n",
    "    if text.lower() == \"exit\":\n",
    "        break\n",
    "    if len(text.strip()) == 0:\n",
    "        print(\"Error: Please enter valid text\")\n",
    "        continue\n",
    "    \n",
    "    print(predict_sentiment(text))"
   ]
  },
  {
   "cell_type": "code",
   "execution_count": null,
   "id": "4f4529e1",
   "metadata": {},
   "outputs": [],
   "source": [
    "\n",
    "\n",
    "# ---------------------------\n",
    "# 1. Dataset Selection & EDA\n",
    "# ---------------------------\n",
    "\n",
    "\n",
    "\n",
    "\n",
    "\n",
    "# ---------------------------\n",
    "# 2. Model Implementation\n",
    "# ---------------------------\n",
    "\n",
    "\n",
    "\n",
    "# ---------------------------\n",
    "# 3. Evaluation\n",
    "# ---------------------------\n",
    "\n",
    "\n",
    "\n",
    "# ---------------------------\n",
    "# 4. Deployment\n",
    "# ---------------------------\n",
    "\n",
    "\n",
    "\n"
   ]
  }
 ],
 "metadata": {
  "kernelspec": {
   "display_name": "base",
   "language": "python",
   "name": "python3"
  },
  "language_info": {
   "codemirror_mode": {
    "name": "ipython",
    "version": 3
   },
   "file_extension": ".py",
   "mimetype": "text/x-python",
   "name": "python",
   "nbconvert_exporter": "python",
   "pygments_lexer": "ipython3",
   "version": "3.12.7"
  }
 },
 "nbformat": 4,
 "nbformat_minor": 5
}
