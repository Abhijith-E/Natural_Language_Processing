{
 "cells": [
  {
   "cell_type": "code",
   "execution_count": 1,
   "metadata": {},
   "outputs": [],
   "source": [
    "import re"
   ]
  },
  {
   "cell_type": "code",
   "execution_count": 2,
   "metadata": {},
   "outputs": [],
   "source": [
    "text = \"ഹലോ! 2024-ലെ മികച്ച വർഷം 😊 ₹1000\" \n",
    "#text = \"Hello! How are you? 😊 I have ₹1000.\""
   ]
  },
  {
   "cell_type": "code",
   "execution_count": 3,
   "metadata": {},
   "outputs": [
    {
     "name": "stdout",
     "output_type": "stream",
     "text": [
      "ഹലോ! 2024-ലെ മികച്ച വർഷം 😊 ₹1000\n"
     ]
    }
   ],
   "source": [
    "print(text)"
   ]
  },
  {
   "cell_type": "code",
   "execution_count": 8,
   "metadata": {},
   "outputs": [
    {
     "name": "stdout",
     "output_type": "stream",
     "text": [
      "ഹലോ ലെ മികച്ച വർഷം  \n"
     ]
    }
   ],
   "source": [
    "cleaned_text = re.sub(r'[^\\u0D00-\\u0D7F\\u0900-\\u097F\\u0980-\\u09FF\\u0B80-\\u0BFF\\u0C00-\\u0C7F\\u0C80-\\u0CFF\\s]', '', text)\n",
    "print(cleaned_text)\n",
    "#cleaned = re.sub(r'[^A-Za-z\\s]', '' ,text)\n",
    "#print (cleaned)"
   ]
  },
  {
   "cell_type": "code",
   "execution_count": 9,
   "metadata": {},
   "outputs": [],
   "source": [
    "import nltk"
   ]
  },
  {
   "cell_type": "code",
   "execution_count": 10,
   "metadata": {},
   "outputs": [
    {
     "name": "stdout",
     "output_type": "stream",
     "text": [
      "['ഹലോ', '!', '2024-ലെ', 'മികച്ച', 'വർഷം', '😊', '₹1000']\n"
     ]
    }
   ],
   "source": [
    "\n",
    "from nltk.tokenize import word_tokenize\n",
    "\n",
    "words = word_tokenize(text)\n",
    "\n",
    "print(words)"
   ]
  },
  {
   "cell_type": "code",
   "execution_count": 17,
   "metadata": {},
   "outputs": [
    {
     "name": "stdout",
     "output_type": "stream",
     "text": [
      "Requirement already satisfied: indicnlp in c:\\users\\hp\\appdata\\local\\programs\\python\\python313\\lib\\site-packages (0.0.1)\n",
      "Note: you may need to restart the kernel to use updated packages.\n"
     ]
    },
    {
     "name": "stderr",
     "output_type": "stream",
     "text": [
      "\n",
      "[notice] A new release of pip is available: 25.0 -> 25.0.1\n",
      "[notice] To update, run: python.exe -m pip install --upgrade pip\n"
     ]
    }
   ],
   "source": [
    "pip install indicnlp\n"
   ]
  },
  {
   "cell_type": "code",
   "execution_count": 18,
   "metadata": {},
   "outputs": [],
   "source": [
    "#pip install indic-nlp-library"
   ]
  },
  {
   "cell_type": "code",
   "execution_count": 12,
   "metadata": {},
   "outputs": [],
   "source": [
    "import indicnlp"
   ]
  },
  {
   "cell_type": "code",
   "execution_count": 19,
   "metadata": {},
   "outputs": [],
   "source": [
    "from indicnlp.tokenize import indic_tokenize"
   ]
  },
  {
   "cell_type": "code",
   "execution_count": 20,
   "metadata": {},
   "outputs": [
    {
     "name": "stdout",
     "output_type": "stream",
     "text": [
      "['ഹലോ', 'ലെ', 'മികച്ച', 'വർഷം']\n",
      "ഹലോ! 2024-ലെ മികച്ച വർഷം 😊 ₹1000\n"
     ]
    }
   ],
   "source": [
    "from indicnlp.tokenize import indic_tokenize\n",
    "\n",
    "words = indic_tokenize.trivial_tokenize(cleaned_text)\n",
    "print(words)\n",
    "print(text)"
   ]
  },
  {
   "cell_type": "code",
   "execution_count": 21,
   "metadata": {},
   "outputs": [
    {
     "name": "stdout",
     "output_type": "stream",
     "text": [
      "This is a space\n"
     ]
    }
   ],
   "source": [
    "char = \"\"  # Space character\n",
    "if char.strip():\n",
    "    print(\"Not a space\")\n",
    "else:\n",
    "    print(\"This is a space\")\n"
   ]
  },
  {
   "cell_type": "code",
   "execution_count": 22,
   "metadata": {},
   "outputs": [
    {
     "name": "stdout",
     "output_type": "stream",
     "text": [
      "MALAYALAM\n"
     ]
    }
   ],
   "source": [
    "import unicodedata\n",
    "\n",
    "char = \"ന\"  # Malayalam letter\n",
    "print(unicodedata.name(char).split()[0])\n"
   ]
  },
  {
   "cell_type": "code",
   "execution_count": 23,
   "metadata": {},
   "outputs": [
    {
     "name": "stdout",
     "output_type": "stream",
     "text": [
      "Character: न, Script: DEVANAGARI\n"
     ]
    }
   ],
   "source": [
    "char = \"न\"\n",
    "script = \"DEVANAGARI\"\n",
    "print(f\"Character: {char}, Script: {script}\")\n"
   ]
  },
  {
   "cell_type": "code",
   "execution_count": 24,
   "metadata": {},
   "outputs": [
    {
     "name": "stdout",
     "output_type": "stream",
     "text": [
      "letter ന, script MALAYALAM\n",
      "letter ന, script MALAYALAM\n",
      "letter ്, script MALAYALAM\n",
      "letter ദ, script MALAYALAM\n",
      "letter ി, script MALAYALAM\n"
     ]
    }
   ],
   "source": [
    "import unicodedata\n",
    "\n",
    "def extract_script(text):\n",
    "    for char in text :\n",
    "         if char.strip():\n",
    "            script = unicodedata.name(char).split()[0]\n",
    "            print(f\"letter {char}, script {script}\")\n",
    "\n",
    "text = \"നന്ദി\"\n",
    "extract_script(text)"
   ]
  },
  {
   "cell_type": "code",
   "execution_count": 25,
   "metadata": {},
   "outputs": [
    {
     "name": "stdout",
     "output_type": "stream",
     "text": [
      "True\n",
      "False\n"
     ]
    }
   ],
   "source": [
    "import re\n",
    "\n",
    "# Malayalam Unicode range (U+0D00 to U+0D7F)\n",
    "def contains_malayalam(text):\n",
    "    return bool(re.search(r'[\\u0D00-\\u0D7F]', text))\n",
    "\n",
    "text1 = \"കേരളം മനോഹരമാണ്\"  # Malayalam text\n",
    "text2 = \"This is an English sentence.\"\n",
    "\n",
    "print(contains_malayalam(text1))  # Output: True\n",
    "print(contains_malayalam(text2))  # Output: False\n"
   ]
  }
 ],
 "metadata": {
  "kernelspec": {
   "display_name": "Python 3",
   "language": "python",
   "name": "python3"
  },
  "language_info": {
   "codemirror_mode": {
    "name": "ipython",
    "version": 3
   },
   "file_extension": ".py",
   "mimetype": "text/x-python",
   "name": "python",
   "nbconvert_exporter": "python",
   "pygments_lexer": "ipython3",
   "version": "3.13.1"
  }
 },
 "nbformat": 4,
 "nbformat_minor": 2
}
